{
  "cells": [
    {
      "cell_type": "markdown",
      "source": [
        "# **Jupyter Notebook to demonstrate the basics  of Descriptive Statistics**\n",
        "Welcome to the notebook on descriptive statistics. Statistics is a very large field. People even go to grad school for it. For our site here, we will focus on some of the big hitters in statistics that make you a good data scientist.\n",
        "\n",
        "Descriptive statistics are measurements that describe a population (or sample of that population) of values. They tell you where the center tends to be, how spread out the values are, the shape of the distribution, and a bunch of other things. \n",
        "But here we focus on some of the simpler values that you have to know to consider yourself a newbie in data science. \n",
        "\n",
        "\n",
        "The git repository for this notebook (and all notebooks) is found [here](https://github.com/eds-admin/eds-blog/blob/master/Statistics/Descriptive%20Statistics.ipynb). \n",
        "\n",
        "### Useful resources:\n",
        "* [Online Stat Book](http://onlinestatbook.com/)\n",
        "* [Free books to learn Statistics](https://www.kdnuggets.com/2020/12/5-free-books-learn-statistics-data-science.html)\n",
        "\n",
        "---\n",
        "Author: \n",
        "*   dr.daniel benninger  \n",
        "\n",
        "History: \n",
        "*  v1, January 2022, dbe --- initial version for CAS BIA12"
      ],
      "metadata": {
        "cell_id": "00001-713f0223-cbf2-42a0-b413-ab2f407d8e8a",
        "deepnote_cell_type": "markdown",
        "id": "NiDGHoeJHEpn"
      }
    },
    {
      "cell_type": "markdown",
      "source": [
        "<h1>Table of Contents<span class=\"tocSkip\"></span></h1>\n",
        "<div class=\"toc\"><ul class=\"toc-item\"><li><span><a href=\"#Descriptive-Statistics\" data-toc-modified-id=\"Descriptive-Statistics-1\">Descriptive Statistics</a></span><ul class=\"toc-item\"><li><span><a href=\"#Requirements\" data-toc-modified-id=\"Requirements-1.1\">Requirements</a></span></li><li><span><a href=\"#Useful-Python-functions\" data-toc-modified-id=\"Useful-Python-functions-1.2\">Useful Python functions</a></span><ul class=\"toc-item\"><li><span><a href=\"#Random\" data-toc-modified-id=\"Random-1.2.1\">Random</a></span></li><li><span><a href=\"#len()-&amp;-sum()\" data-toc-modified-id=\"len()-&amp;-sum()-1.2.2\"><code>len()</code> &amp; <code>sum()</code></a></span></li><li><span><a href=\"#max()-&amp;-min()\" data-toc-modified-id=\"max()-&amp;-min()-1.2.3\"><code>max()</code> &amp; <code>min()</code></a></span></li><li><span><a href=\"#sorted()\" data-toc-modified-id=\"sorted()-1.2.4\"><code>sorted()</code></a></span></li></ul></li><li><span><a href=\"#The-Mean\" data-toc-modified-id=\"The-Mean-1.3\">The Mean</a></span><ul class=\"toc-item\"><li><span><a href=\"#1.-Arithmetic-mean\" data-toc-modified-id=\"1.-Arithmetic-mean-1.3.1\">1. Arithmetic mean</a></span></li><li><span><a href=\"#2.-Geometric-mean\" data-toc-modified-id=\"2.-Geometric-mean-1.3.2\">2. Geometric mean</a></span></li><li><span><a href=\"#3.-Harmonic-mean\" data-toc-modified-id=\"3.-Harmonic-mean-1.3.3\">3. Harmonic mean</a></span></li></ul></li><li><span><a href=\"#The-Median\" data-toc-modified-id=\"The-Median-1.4\">The Median</a></span></li><li><span><a href=\"#The-Mode\" data-toc-modified-id=\"The-Mode-1.5\">The Mode</a></span></li><li><span><a href=\"#Percentiles\" data-toc-modified-id=\"Percentiles-1.6\">Percentiles</a></span></li><li><span><a href=\"#The-Boxplot\" data-toc-modified-id=\"The-Boxplot-1.7\">The Boxplot</a></span></li><li><span><a href=\"#Histogram\" data-toc-modified-id=\"Histogram-1.8\">Histogram</a></span></li><li><span><a href=\"#Variability\" data-toc-modified-id=\"Variability-1.9\">Variability</a></span><ul class=\"toc-item\"><li><span><a href=\"#1.-Range\" data-toc-modified-id=\"1.-Range-1.9.1\">1. Range</a></span></li><li><span><a href=\"#2.-Inter-Quartile-Range\" data-toc-modified-id=\"2.-Inter-Quartile-Range-1.9.2\">2. Inter-Quartile Range</a></span></li><li><span><a href=\"#3.-Variance\" data-toc-modified-id=\"3.-Variance-1.9.3\">3. Variance</a></span></li></ul></li><li><span><a href=\"#Next-time\" data-toc-modified-id=\"Next-time-1.10\">Next time</a></span></li></ul></div>"
      ],
      "metadata": {
        "toc": "true",
        "cell_id": "00000-33637b40-6271-493d-bed5-ec38ca20526e",
        "deepnote_cell_type": "markdown",
        "id": "WcK6J6cfHEpZ"
      }
    },
    {
      "cell_type": "markdown",
      "source": [
        "## Requirements\n",
        "We'll use two 3rd party Python libraries (*seaborn* and *pandas*) for displaying graphs. \n",
        "Run from terminal or shell:\n"
      ],
      "metadata": {
        "cell_id": "00002-29594a37-c395-46a0-9191-e6a354f5260d",
        "deepnote_cell_type": "markdown",
        "id": "F4JBDQhwHEpq"
      }
    },
    {
      "cell_type": "code",
      "source": [
        "!pip install seaborn;\n",
        "!pip install pandas"
      ],
      "metadata": {
        "colab": {
          "base_uri": "https://localhost:8080/",
          "height": 0
        },
        "id": "EJCXnIvxgtzr",
        "outputId": "c5965474-7d91-4118-b098-f43657ef93b6"
      },
      "execution_count": 5,
      "outputs": [
        {
          "output_type": "stream",
          "name": "stdout",
          "text": [
            "Requirement already satisfied: seaborn in /usr/local/lib/python3.7/dist-packages (0.11.2)\n",
            "Requirement already satisfied: matplotlib>=2.2 in /usr/local/lib/python3.7/dist-packages (from seaborn) (3.2.2)\n",
            "Requirement already satisfied: numpy>=1.15 in /usr/local/lib/python3.7/dist-packages (from seaborn) (1.19.5)\n",
            "Requirement already satisfied: scipy>=1.0 in /usr/local/lib/python3.7/dist-packages (from seaborn) (1.4.1)\n",
            "Requirement already satisfied: pandas>=0.23 in /usr/local/lib/python3.7/dist-packages (from seaborn) (1.1.5)\n",
            "Requirement already satisfied: kiwisolver>=1.0.1 in /usr/local/lib/python3.7/dist-packages (from matplotlib>=2.2->seaborn) (1.3.2)\n",
            "Requirement already satisfied: python-dateutil>=2.1 in /usr/local/lib/python3.7/dist-packages (from matplotlib>=2.2->seaborn) (2.8.2)\n",
            "Requirement already satisfied: pyparsing!=2.0.4,!=2.1.2,!=2.1.6,>=2.0.1 in /usr/local/lib/python3.7/dist-packages (from matplotlib>=2.2->seaborn) (3.0.6)\n",
            "Requirement already satisfied: cycler>=0.10 in /usr/local/lib/python3.7/dist-packages (from matplotlib>=2.2->seaborn) (0.11.0)\n",
            "Requirement already satisfied: pytz>=2017.2 in /usr/local/lib/python3.7/dist-packages (from pandas>=0.23->seaborn) (2018.9)\n",
            "Requirement already satisfied: six>=1.5 in /usr/local/lib/python3.7/dist-packages (from python-dateutil>=2.1->matplotlib>=2.2->seaborn) (1.15.0)\n",
            "Requirement already satisfied: pandas in /usr/local/lib/python3.7/dist-packages (1.1.5)\n",
            "Requirement already satisfied: pytz>=2017.2 in /usr/local/lib/python3.7/dist-packages (from pandas) (2018.9)\n",
            "Requirement already satisfied: numpy>=1.15.4 in /usr/local/lib/python3.7/dist-packages (from pandas) (1.19.5)\n",
            "Requirement already satisfied: python-dateutil>=2.7.3 in /usr/local/lib/python3.7/dist-packages (from pandas) (2.8.2)\n",
            "Requirement already satisfied: six>=1.5 in /usr/local/lib/python3.7/dist-packages (from python-dateutil>=2.7.3->pandas) (1.15.0)\n"
          ]
        }
      ]
    },
    {
      "cell_type": "code",
      "metadata": {
        "cell_id": "00003-4c627075-1b96-45f2-b94d-2b4ed482e864",
        "deepnote_cell_type": "code",
        "id": "GXawyccFHEpr"
      },
      "source": [
        "import seaborn as sns\n",
        "import random as random\n",
        "%matplotlib inline"
      ],
      "execution_count": 6,
      "outputs": []
    },
    {
      "cell_type": "markdown",
      "source": [
        "## Useful Python functions\n",
        "Many statistics require knowing the length or sum of your data. Let's chug through some useful [built-in functions](https://docs.python.org/3/library/functions.html).\n",
        "\n",
        "### Random\n",
        "We'll use the [`random` module](https://docs.python.org/3/library/random.html) a lot to generate random numbers to make fake datasets. The plain vanilla random generator will pull from a uniform distribution. There are also options to pull from other datasets. As we add more tools to our data science toolbox, we'll find that [NumPy's](https://docs.scipy.org/doc/numpy-1.13.0/index.html) random number generators to be more full-featured and play really nicely with [Pandas](https://pandas.pydata.org/), another key data science library. For now, we're going to avoid the overhead of learning another library and just use Python's standard library."
      ],
      "metadata": {
        "cell_id": "00004-926ca71b-9870-4054-bdd6-e39ab324479e",
        "deepnote_cell_type": "markdown",
        "id": "tWHETm6RHEps"
      }
    },
    {
      "cell_type": "code",
      "metadata": {
        "cell_id": "00005-8c1ef40d-8978-4231-907b-96a9a6cc18db",
        "deepnote_cell_type": "code",
        "id": "KT8xIFS9HEpt",
        "outputId": "47af8ed9-0db5-4352-ae1d-ffecba754b27",
        "colab": {
          "base_uri": "https://localhost:8080/",
          "height": 0
        }
      },
      "source": [
        "random.seed(42)\n",
        "values = [random.randrange(1,1001,1) for _ in range(10000)]\n",
        "values[0:15]"
      ],
      "execution_count": 11,
      "outputs": [
        {
          "output_type": "execute_result",
          "data": {
            "text/plain": [
              "[655, 115, 26, 760, 282, 251, 229, 143, 755, 105, 693, 759, 914, 559, 90]"
            ]
          },
          "metadata": {},
          "execution_count": 11
        }
      ]
    },
    {
      "cell_type": "markdown",
      "source": [
        "### `len()` & `sum()`\n",
        "The building blocks of average. Self explanatory here."
      ],
      "metadata": {
        "cell_id": "00006-30cabf91-0b4a-47ba-8320-5f0c94637f22",
        "deepnote_cell_type": "markdown",
        "id": "_z2I8x65HEpv"
      }
    },
    {
      "cell_type": "code",
      "metadata": {
        "cell_id": "00007-d7f271cb-595f-4fee-a651-8e3a1e087962",
        "deepnote_cell_type": "code",
        "id": "QECe0iGQHEpw",
        "outputId": "3170827c-bc09-4cdd-c366-4d0dc80f32ee",
        "colab": {
          "base_uri": "https://localhost:8080/",
          "height": 0
        }
      },
      "source": [
        "len(values)"
      ],
      "execution_count": 8,
      "outputs": [
        {
          "output_type": "execute_result",
          "data": {
            "text/plain": [
              "10000"
            ]
          },
          "metadata": {},
          "execution_count": 8
        }
      ]
    },
    {
      "cell_type": "code",
      "metadata": {
        "cell_id": "00008-4c0f4a18-a328-4e6d-b6a2-e81ae8a62754",
        "deepnote_cell_type": "code",
        "id": "DISOnA7_HEpy",
        "outputId": "2ce59cd6-eb79-4cb9-ba39-e787edb17e8d",
        "colab": {
          "base_uri": "https://localhost:8080/",
          "height": 0
        }
      },
      "source": [
        "sum(values)"
      ],
      "execution_count": 9,
      "outputs": [
        {
          "output_type": "execute_result",
          "data": {
            "text/plain": [
              "5021696"
            ]
          },
          "metadata": {},
          "execution_count": 9
        }
      ]
    },
    {
      "cell_type": "markdown",
      "source": [
        "Below we'll use Seaborn to plot and visualize some of our data. Don't worry about this too much. Visualization, while important, is not the focus of this notebook.   \n",
        "See the *DEMO_SEABORN_Visualization_Examples.ipynb* notebook for a specific discussion of data visualization"
      ],
      "metadata": {
        "cell_id": "00009-b00beaaf-3139-4ed9-8893-0aa2c1163737",
        "deepnote_cell_type": "markdown",
        "id": "dekNyjsrHEpz"
      }
    },
    {
      "cell_type": "code",
      "metadata": {
        "cell_id": "00010-b2562f70-1d58-4012-8c25-9670c3b3a07f",
        "deepnote_cell_type": "code",
        "id": "4u3Yxv1yHEp1",
        "outputId": "27263ee4-dcc6-4d4f-be0e-67d8a2e6f809"
      },
      "source": [
        "sns.stripplot(x=values, jitter=True, alpha=0.2)"
      ],
      "execution_count": null,
      "outputs": [
        {
          "data": {
            "text/plain": "<matplotlib.axes._subplots.AxesSubplot at 0x7fee2549bf60>"
          },
          "execution_count": 6,
          "metadata": {},
          "output_type": "execute_result"
        },
        {
          "data": {
            "image/png": "[encoded data removed]",
            "text/plain": "<Figure size 432x288 with 1 Axes>"
          },
          "metadata": {
            "needs_background": "light",
            "image/png": {
              "width": 356,
              "height": 252
            }
          },
          "output_type": "display_data"
        }
      ]
    },
    {
      "cell_type": "markdown",
      "source": [
        "This graph is pretty cluttered. That makes sense because it's 10,000 values between 1 and 1,000. That tells us there should be an average of 10 entries for each value.\n",
        "\n",
        "Let's make a sparse number line with just 200 values between 1 and 1000. There should be a lot more white space."
      ],
      "metadata": {
        "cell_id": "00011-d07f61fd-9816-4420-90c6-02387666d86f",
        "deepnote_cell_type": "markdown",
        "id": "RijUs3giHEp1"
      }
    },
    {
      "cell_type": "code",
      "metadata": {
        "cell_id": "00012-b04ad867-430d-4d95-845b-d186078fdff9",
        "deepnote_cell_type": "code",
        "id": "opgoDG2qHEp2",
        "outputId": "b4f9c5fa-7e2f-4092-b0c9-e4fed65ef2e9",
        "colab": {
          "base_uri": "https://localhost:8080/",
          "height": 282
        }
      },
      "source": [
        "sparse_values = [random.randrange(1,1001) for _ in range (200)]\n",
        "sns.stripplot(x=sparse_values, jitter=True)"
      ],
      "execution_count": 12,
      "outputs": [
        {
          "output_type": "execute_result",
          "data": {
            "text/plain": [
              "<matplotlib.axes._subplots.AxesSubplot at 0x7fdb50058f90>"
            ]
          },
          "metadata": {},
          "execution_count": 12
        },
        {
          "output_type": "display_data",
          "data": {
            "image/png": "[encoded data removed]",
            "text/plain": [
              "<Figure size 432x288 with 1 Axes>"
            ]
          },
          "metadata": {
            "needs_background": "light"
          }
        }
      ]
    },
    {
      "cell_type": "markdown",
      "source": [
        "### `max()` & `min()`\n",
        "These built-in functions are useful for getting the range of our data, and just general inspection:"
      ],
      "metadata": {
        "cell_id": "00013-eaea6772-3210-469f-a824-d1d0de089345",
        "deepnote_cell_type": "markdown",
        "id": "6sxq5YyzHEp3"
      }
    },
    {
      "cell_type": "code",
      "metadata": {
        "cell_id": "00014-d6ad02ae-0425-4113-9175-7fc981bd54c3",
        "deepnote_cell_type": "code",
        "id": "AHH2RaJxHEp3",
        "outputId": "cbadac83-fb28-472f-f635-51a6e9c2e563",
        "colab": {
          "base_uri": "https://localhost:8080/",
          "height": 0
        }
      },
      "source": [
        "print(\"Max value: {}\\nMin value: {}\".format(\n",
        "    max(values), min(values)))"
      ],
      "execution_count": 13,
      "outputs": [
        {
          "output_type": "stream",
          "name": "stdout",
          "text": [
            "Max value: 1000\n",
            "Min value: 1\n"
          ]
        }
      ]
    },
    {
      "cell_type": "markdown",
      "source": [
        "### `sorted()`\n",
        "Another very important technique in wrangling data is sorting it. If we have a dataset of salaries, for example, and we want to see the 10 top earners, this is how we'd do it. Let's look now at the first 20 items in our sorted data set:"
      ],
      "metadata": {
        "cell_id": "00015-48dfc107-de60-4a0d-9b46-a3c0ee376a2a",
        "deepnote_cell_type": "markdown",
        "id": "NZRbGRI-HEp4"
      }
    },
    {
      "cell_type": "code",
      "metadata": {
        "cell_id": "00016-b3fdb4b6-5d99-4006-b07f-9e5732bb051d",
        "deepnote_cell_type": "code",
        "id": "2EtLKw3tHEp5",
        "outputId": "dda3d8db-fc06-40e1-f770-9e620dfc7abf"
      },
      "source": [
        "sorted_vals = sorted(values)\n",
        "sorted_vals[0:20]"
      ],
      "execution_count": null,
      "outputs": [
        {
          "data": {
            "text/plain": "[1, 1, 1, 1, 1, 1, 1, 1, 1, 2, 2, 2, 2, 2, 2, 2, 2, 2, 3, 3]"
          },
          "execution_count": 9,
          "metadata": {},
          "output_type": "execute_result"
        }
      ]
    },
    {
      "cell_type": "markdown",
      "source": [
        "If we wanted to sort values in-place (as in, perform an action like `values = sorted(values)`), we would use the `list` class' own `sort()` method: \n",
        "```python\n",
        "values.sort()```"
      ],
      "metadata": {
        "cell_id": "00017-e05e23f9-9440-4364-8f38-0c59090411f1",
        "deepnote_cell_type": "markdown",
        "id": "QXVs_reBHEp5"
      }
    },
    {
      "cell_type": "markdown",
      "source": [
        "## The Mean\n",
        "The mean is a fancy statistical way to say \"average.\" You're all familiar with what average means. But mathemeticians like to be special and specific. There's not just one type of mean. In fact, we'll talk about 3 kinds of \"means\" that are all useful for different types of numbers.\n",
        "1. **Arithmetic mean** for common numbers\n",
        "2. **Geometric mean** for returns or growth\n",
        "3. **Harmonic mean** for ratios and rates\n",
        "\n",
        "\n",
        "### 1. Arithmetic mean\n",
        "This is your typical average. You've used it all your life. It's simply the sum of the elements divided by the length. Intuitively, think of it as if you made every element the exact same value so that the sum of all values remains the same as before. What would that value be?\n",
        "\n",
        "Mathematically the mean, denoted $\\mu$, looks like: \n",
        "\n",
        "$$\\mu = \\frac{x_1 + x_2 + \\cdots + x_n}{n}$$\n",
        "\n",
        "where $\\bar{x}$ is our mean, $x_i$ is a value at the $i$th index of our list, and $n$ is the length of that list.\n",
        "\n",
        "In Python, it's a simple operation combining two builtins we saw above: `sum()` and `len()`"
      ],
      "metadata": {
        "cell_id": "00018-d146d0b9-1580-4682-a54d-c9bf6b9a0422",
        "deepnote_cell_type": "markdown",
        "id": "wTOSfbLkHEp6"
      }
    },
    {
      "cell_type": "code",
      "metadata": {
        "cell_id": "00019-92a44a30-be5b-4f0a-b92f-24e83ba335d1",
        "deepnote_cell_type": "code",
        "id": "21ZIS0CGHEp6",
        "outputId": "79b5f20d-6d5b-44fa-ce0c-9aaddbd81275",
        "colab": {
          "base_uri": "https://localhost:8080/",
          "height": 0
        }
      },
      "source": [
        "def arithmetic_mean(vals):\n",
        "    return sum(vals) / len(vals)\n",
        "\n",
        "arithmetic_mean(values)"
      ],
      "execution_count": 15,
      "outputs": [
        {
          "output_type": "execute_result",
          "data": {
            "text/plain": [
              "502.1696"
            ]
          },
          "metadata": {},
          "execution_count": 15
        }
      ]
    },
    {
      "cell_type": "markdown",
      "source": [
        "From this we see our average value is 502.1696. Let's double check that with our intuitive definition using the sum:"
      ],
      "metadata": {
        "cell_id": "00020-853aea7a-2218-488c-9051-fe83d867d994",
        "deepnote_cell_type": "markdown",
        "id": "-8qbKHAoHEp7"
      }
    },
    {
      "cell_type": "code",
      "metadata": {
        "cell_id": "00021-fd0844fc-5581-4e0b-ac88-670d2a3e73da",
        "deepnote_cell_type": "code",
        "id": "_njKbzpmHEp8",
        "outputId": "93ff4f5e-5df9-4c4d-eaa2-361384705f5b",
        "colab": {
          "base_uri": "https://localhost:8080/",
          "height": 0
        }
      },
      "source": [
        "avg_sum = len(values) * arithmetic_mean(values) #10,000 * 502.1696\n",
        "print(\"{} =? {}\".format(sum(values), avg_sum))"
      ],
      "execution_count": 16,
      "outputs": [
        {
          "output_type": "stream",
          "name": "stdout",
          "text": [
            "5021696 =? 5021696.0\n"
          ]
        }
      ]
    },
    {
      "cell_type": "markdown",
      "source": [
        "### 2. Geometric mean\n",
        "The geometric mean is a similar idea but instead uses the product. It says if I multiply each value in our list together, what one value could I use instead to get the same result? \n",
        "\n",
        "The geometric mean is very useful in things like growth or returns (e.g. stocks) because adding returns doesn't give us the ability to get returns over a longer length of time. In other words, if I have a stock growing at 5% per year, what will be the total returns after 5 years?\n",
        "\n",
        "If you said 25%, you are wrong. It would be $1.05^5 - 1  \\approx 27.63\\%$\n",
        "\n",
        "Mathematically, our geometric is:\n",
        "$$ GM(x) = \\sqrt[n]{x_1 \\times x_2 \\times \\cdots \\times x_n }$$"
      ],
      "metadata": {
        "cell_id": "00022-6a64e22c-acbb-4ce2-adaa-364fd0f15408",
        "deepnote_cell_type": "markdown",
        "id": "2JaeF3WrHEp9"
      }
    },
    {
      "cell_type": "code",
      "metadata": {
        "cell_id": "00023-96114642-bd44-4c5c-86ec-3f8c111e4858",
        "deepnote_cell_type": "code",
        "id": "nw4UqLByHEp-",
        "outputId": "9b28566f-d3d1-4e02-9096-fd290fcb9c66",
        "colab": {
          "base_uri": "https://localhost:8080/",
          "height": 0
        }
      },
      "source": [
        "returns = [1.05, 1.06, .98, 1.08]\n",
        "\n",
        "def product(vals):\n",
        "    ''' \n",
        "    This is a function that will multiply every item in the list\n",
        "    together reducing it to a single number. The Pythonic way to\n",
        "    do this would be to use the 'reduce' function like so:\n",
        "    > reduce(lambda x, y: x * y, vals)\n",
        "    We are explicit here for clairty.\n",
        "    '''\n",
        "    prod = 1\n",
        "    for x in vals:\n",
        "        prod = prod * x\n",
        "    return prod\n",
        "\n",
        "def geometric_mean(vals):\n",
        "    geo_mean = product(vals) ** (1/len(vals)) # raising to 1/n is the same as nth root\n",
        "    return geo_mean\n",
        "\n",
        "geom = geometric_mean(returns)\n",
        "geom"
      ],
      "execution_count": 17,
      "outputs": [
        {
          "output_type": "execute_result",
          "data": {
            "text/plain": [
              "1.041804547674296"
            ]
          },
          "metadata": {},
          "execution_count": 17
        }
      ]
    },
    {
      "cell_type": "markdown",
      "source": [
        "Using our `product` function above, we can easily multiply all the values together to get what your return after 4 years is:"
      ],
      "metadata": {
        "cell_id": "00024-22d24998-8480-447d-ab7c-3fcd1827df2c",
        "deepnote_cell_type": "markdown",
        "id": "HhLAYdV5HEp-"
      }
    },
    {
      "cell_type": "code",
      "metadata": {
        "cell_id": "00025-df78aea1-3f32-4e7d-b58d-aa0c2d3806c4",
        "deepnote_cell_type": "code",
        "id": "ipFD0mWKHEp_",
        "outputId": "cdbce54d-9064-406f-b28e-7c3c74319de0",
        "colab": {
          "base_uri": "https://localhost:8080/",
          "height": 0
        }
      },
      "source": [
        "product(returns)"
      ],
      "execution_count": 18,
      "outputs": [
        {
          "output_type": "execute_result",
          "data": {
            "text/plain": [
              "1.1779992000000004"
            ]
          },
          "metadata": {},
          "execution_count": 18
        }
      ]
    },
    {
      "cell_type": "markdown",
      "source": [
        "or roughly $17.8\\%$. Using our geometric mean should give us the same result:"
      ],
      "metadata": {
        "cell_id": "00026-07b5e49d-ef22-436e-815c-a342b7675f68",
        "deepnote_cell_type": "markdown",
        "id": "27GqQ8qCHEp_"
      }
    },
    {
      "cell_type": "code",
      "metadata": {
        "cell_id": "00027-08180035-381c-4efd-9763-dcb311f9c1a9",
        "deepnote_cell_type": "code",
        "id": "jyKkQvS1HEp_",
        "outputId": "5120a5a2-2c75-4d51-8c0a-a33b3001dd36",
        "colab": {
          "base_uri": "https://localhost:8080/",
          "height": 0
        }
      },
      "source": [
        "geom**4"
      ],
      "execution_count": 19,
      "outputs": [
        {
          "output_type": "execute_result",
          "data": {
            "text/plain": [
              "1.1779992"
            ]
          },
          "metadata": {},
          "execution_count": 19
        }
      ]
    },
    {
      "cell_type": "markdown",
      "source": [
        "Now look at what happens with the arithmetic mean:"
      ],
      "metadata": {
        "cell_id": "00028-18c7c2d3-d757-4e25-821d-b20ece8e28a1",
        "deepnote_cell_type": "markdown",
        "id": "ugi6Eg3SHEqA"
      }
    },
    {
      "cell_type": "code",
      "metadata": {
        "cell_id": "00029-f0989683-9d6c-49a5-8fce-b2df3a041c94",
        "deepnote_cell_type": "code",
        "id": "XaJIeL4RHEqA",
        "outputId": "bfc14bd6-a865-42bb-dafb-c091c798e7c8",
        "colab": {
          "base_uri": "https://localhost:8080/",
          "height": 0
        }
      },
      "source": [
        "arm = arithmetic_mean(returns)\n",
        "arm"
      ],
      "execution_count": 20,
      "outputs": [
        {
          "output_type": "execute_result",
          "data": {
            "text/plain": [
              "1.0425"
            ]
          },
          "metadata": {},
          "execution_count": 20
        }
      ]
    },
    {
      "cell_type": "code",
      "metadata": {
        "cell_id": "00030-0c24679a-d770-4834-abf3-7c5659c34db6",
        "deepnote_cell_type": "code",
        "id": "0tPVDbWFHEqB",
        "outputId": "ba161644-db39-47da-b90e-82bcc0aff2de",
        "colab": {
          "base_uri": "https://localhost:8080/",
          "height": 0
        }
      },
      "source": [
        "arm**4"
      ],
      "execution_count": 21,
      "outputs": [
        {
          "output_type": "execute_result",
          "data": {
            "text/plain": [
              "1.1811478250390623"
            ]
          },
          "metadata": {},
          "execution_count": 21
        }
      ]
    },
    {
      "cell_type": "markdown",
      "source": [
        "The arithmetic mean would tell us that after 4 years, we should have an $18.1\\%$ return. But we know it should actually be a $17.8\\%$ return. It can be tricky to know when to use the arithmetic and geometric means. You also must remember to add the $1$ to your returns or it will not mathematically play nice."
      ],
      "metadata": {
        "cell_id": "00031-fc250f4a-87ad-452e-ac21-9864fc1b8dc4",
        "deepnote_cell_type": "markdown",
        "id": "U2tBFxMtHEqB"
      }
    },
    {
      "cell_type": "markdown",
      "source": [
        "### 3. Harmonic mean\n",
        "This one is also a bit tricky to get intuitively. Here we want an average of _rates_. Not to be confused with an average of _returns_. Recall a rate is simply a ratio between two quantities, like the price-to-earnings ratio of a stock or miles-per-hour of a car.\n",
        "\n",
        "Let's take a look at the mph example. If I have a car who goes 60mph for 50 miles, 50mph for another 50, and 40mph for yet another 50, then the car has traveled 150 miles in $\\frac{50mi}{60\\frac{mi}{h}} + \\frac{50mi}{50\\frac{mi}{h}} + \\frac{50mi}{40\\frac{mi}{h}} = 3.08\\bar{3}h$. This corresponds to a geometric mean of $150mi \\div 3.08\\bar{3}h \\approx 48.648mph$. Much different from our arithmetic mean of 50mph. \n",
        "\n",
        "(_Note: if in our example the car did not travel a clean 50 miles for every segment, we have to use a_ [weighted harmonic mean](https://en.wikipedia.org/wiki/Harmonic_mean#Weighted_harmonic_mean).)\n",
        "\n",
        "Mathematically, the harmonic mean looks like this:\n",
        "\n",
        "$$ \\frac{n}{\\frac{1}{x_1}+\\frac{1}{x_2}+\\cdots+\\frac{1}{x_n}} $$\n",
        "\n",
        "So let's code that up:"
      ],
      "metadata": {
        "cell_id": "00032-43e8a85b-8209-4027-9811-20875791aeb5",
        "deepnote_cell_type": "markdown",
        "id": "VKABr0mHHEqD"
      }
    },
    {
      "cell_type": "code",
      "metadata": {
        "cell_id": "00033-e48b91be-8624-4a58-9423-e9cae8c980ba",
        "deepnote_cell_type": "code",
        "colab": {
          "base_uri": "https://localhost:8080/",
          "height": 0
        },
        "id": "RYCCd6CHHEqD",
        "outputId": "c90817f7-20ee-4db2-86d9-fc904da12ffa"
      },
      "source": [
        "speeds = [60, 50, 40]\n",
        "\n",
        "def harmonic_mean(vals):\n",
        "    sum_recip = sum(1/x for x in vals)\n",
        "    return len(vals) / sum_recip\n",
        "\n",
        "harmonic_mean(speeds)"
      ],
      "execution_count": 22,
      "outputs": [
        {
          "output_type": "execute_result",
          "data": {
            "text/plain": [
              "48.648648648648646"
            ]
          },
          "metadata": {},
          "execution_count": 22
        }
      ]
    },
    {
      "cell_type": "markdown",
      "source": [
        "Now you know about the three [Pythagorean means](https://en.wikipedia.org/wiki/Pythagorean_means). Let's now move on to something very important in descriptive statistics:\n",
        "\n",
        "## The Median\n",
        "The median should be another familiar statistic, but often misquoted. When somebody is describing a set of numbers with just a mean, they might not be telling the whole story. For example, many sets of values are _skewed_ (a concept we will cover in the histogram section) in that most values are clustered around a certain area but have a long tail. Prices are usually good examples of this. Most wine is around \\\\$15-20, but we've all seen those super expensive bottles from a hermit's chateau in France. Salaries are also skewed (and politicians like to remind us how far skewed just 1\\% of these people are).\n",
        "\n",
        "A useful statistic in these cases is the \"median.\" The median gives us the middle value, as opposed to the average value. Here's a simple, but illustrative example:\n",
        "\n",
        "Suppose we take the salaries of 5 people at a bar\n",
        "\n",
        "[12000, 48000, 72000, 160000, 3360000]\n",
        "\n",
        "If I told you the average salary in this bar right now is \\\\$730,400, I'd be telling you the truth. But you can tell that our rich friend pulling in over 3 million is throwing off the curve. When he goes home early to do a business, the average drops to just \\\\$73,000. _A full 10 times less_.\n",
        "\n",
        "The median instead in this case is much more consistent, or in other words, not as prone to _outliers._ To find the median, we simply take the middle value. Or if there are an even number of entries, we take the average of the two middle values. Here it is in Python:"
      ],
      "metadata": {
        "cell_id": "00034-b158bccd-6c6b-4022-a099-c366be40d43d",
        "deepnote_cell_type": "markdown",
        "id": "NOvV0BI5HEqE"
      }
    },
    {
      "cell_type": "code",
      "metadata": {
        "cell_id": "00035-75eae8a7-8f0a-44f9-9dfb-84259f6e7c66",
        "deepnote_cell_type": "code",
        "id": "lFgxYoICHEqE",
        "outputId": "5cd86323-934a-4e14-c013-e84c296b75a7",
        "colab": {
          "base_uri": "https://localhost:8080/",
          "height": 0
        }
      },
      "source": [
        "salaries = [12000, 48000, 72000, 160000, 3360000]\n",
        "\n",
        "def median(vals):\n",
        "    n = len(vals)\n",
        "    sorted_vals = sorted(vals)\n",
        "    midpoint = n // 2\n",
        "    \n",
        "    if n % 2 == 1:\n",
        "        return sorted_vals[midpoint]\n",
        "    else:\n",
        "        return arithmetic_mean([sorted_vals[midpoint-1], sorted_vals[midpoint]])\n",
        "    \n",
        "median(salaries)"
      ],
      "execution_count": 24,
      "outputs": [
        {
          "output_type": "execute_result",
          "data": {
            "text/plain": [
              "72000"
            ]
          },
          "metadata": {},
          "execution_count": 24
        }
      ]
    },
    {
      "cell_type": "markdown",
      "source": [
        "A much more reasonable \\$7200! Now let's see what happens when Moneybags goes home:"
      ],
      "metadata": {
        "cell_id": "00036-15f2c2aa-b105-44de-b84f-4a904cd914ec",
        "deepnote_cell_type": "markdown",
        "id": "eo0JCY04HEqF"
      }
    },
    {
      "cell_type": "code",
      "metadata": {
        "cell_id": "00037-e9cd2f73-ab68-45f8-a62f-ac61d41e036c",
        "deepnote_cell_type": "code",
        "id": "a-w_bhLtHEqG",
        "outputId": "e2da9df2-29a8-47db-81d6-7f9fdbb6ae28",
        "colab": {
          "base_uri": "https://localhost:8080/",
          "height": 0
        }
      },
      "source": [
        "median(salaries[:-1])"
      ],
      "execution_count": 25,
      "outputs": [
        {
          "output_type": "execute_result",
          "data": {
            "text/plain": [
              "60000.0"
            ]
          },
          "metadata": {},
          "execution_count": 25
        }
      ]
    },
    {
      "cell_type": "markdown",
      "source": [
        "The median drops down to \\\\$60,000 (which is the average of \\\\$48,000 and \\\\$72,000).\n",
        "\n",
        "Let's take a look at our original `values` list of 10,000 numbers."
      ],
      "metadata": {
        "cell_id": "00038-4adaa2f3-df7f-4496-a76a-b462df3e2e71",
        "deepnote_cell_type": "markdown",
        "id": "4MNco8C5HEqG"
      }
    },
    {
      "cell_type": "code",
      "metadata": {
        "cell_id": "00039-a10b344d-c2dc-4d9c-9fa8-b1067d1b6221",
        "deepnote_cell_type": "code",
        "id": "rEbDaoQcHEqG",
        "outputId": "fb3e8769-6fe9-4697-a966-5cbaad9ce983",
        "colab": {
          "base_uri": "https://localhost:8080/",
          "height": 0
        }
      },
      "source": [
        "median(values)"
      ],
      "execution_count": 26,
      "outputs": [
        {
          "output_type": "execute_result",
          "data": {
            "text/plain": [
              "506.0"
            ]
          },
          "metadata": {},
          "execution_count": 26
        }
      ]
    },
    {
      "cell_type": "code",
      "metadata": {
        "cell_id": "00040-689269ab-b083-4708-8881-a9093ab48585",
        "deepnote_cell_type": "code",
        "id": "wPwdmwbwHEqH",
        "outputId": "ba69e275-cf07-432e-e512-7fc3e016cc37",
        "colab": {
          "base_uri": "https://localhost:8080/",
          "height": 0
        }
      },
      "source": [
        "# Recall our values list is even, meaning 506.0 was both item 5000 and 5001\n",
        "len(values)"
      ],
      "execution_count": 27,
      "outputs": [
        {
          "output_type": "execute_result",
          "data": {
            "text/plain": [
              "10000"
            ]
          },
          "metadata": {},
          "execution_count": 27
        }
      ]
    },
    {
      "cell_type": "code",
      "metadata": {
        "cell_id": "00041-58892dca-84b8-4997-995c-347db57c12be",
        "deepnote_cell_type": "code",
        "id": "USfo9lPQHEqH",
        "outputId": "e211fd72-eacd-4de2-a54a-e6c42e95684d",
        "colab": {
          "base_uri": "https://localhost:8080/",
          "height": 0
        }
      },
      "source": [
        "# Lopping off the end returns the same value\n",
        "median(values[:-1])"
      ],
      "execution_count": 28,
      "outputs": [
        {
          "output_type": "execute_result",
          "data": {
            "text/plain": [
              "506"
            ]
          },
          "metadata": {},
          "execution_count": 28
        }
      ]
    },
    {
      "cell_type": "code",
      "metadata": {
        "cell_id": "00042-b8cd30c1-b4f5-4d3c-981e-bf647b19301d",
        "deepnote_cell_type": "code",
        "id": "L30bWxoRHEqI",
        "outputId": "0c9ff8d8-3e47-4ab9-88e2-d65656074616",
        "colab": {
          "base_uri": "https://localhost:8080/",
          "height": 0
        }
      },
      "source": [
        "# Why? There are 9 506s in the list\n",
        "from collections import Counter\n",
        "c = Counter(values)\n",
        "c[506]"
      ],
      "execution_count": 29,
      "outputs": [
        {
          "output_type": "execute_result",
          "data": {
            "text/plain": [
              "9"
            ]
          },
          "metadata": {},
          "execution_count": 29
        }
      ]
    },
    {
      "cell_type": "markdown",
      "source": [
        "Above we used the [`Counter`](https://docs.python.org/3.6/library/collections.html#collections.Counter) class in the standard library. This class is a subclass of the `dict` that holds a dictionary of keys to their counts. We can build our own version of it like so:"
      ],
      "metadata": {
        "cell_id": "00043-21f46683-0ac3-4ac8-ae6e-6e3da5c8c9a9",
        "deepnote_cell_type": "markdown",
        "id": "Ui_bqwFqHEqI"
      }
    },
    {
      "cell_type": "code",
      "metadata": {
        "cell_id": "00044-75c79122-430e-441c-afd5-d752af051ba5",
        "deepnote_cell_type": "code",
        "id": "NCBWOkzjHEqI",
        "outputId": "47cbbdd4-bbab-4d64-85c0-ebe1ec662c43",
        "colab": {
          "base_uri": "https://localhost:8080/",
          "height": 0
        }
      },
      "source": [
        "# Here we use the defaultdict that will initialize our first value if it doesn't yet exist\n",
        "from collections import defaultdict\n",
        "def make_counter(values):\n",
        "    counts = defaultdict(int)\n",
        "    for v in values:\n",
        "        counts[v] += 1\n",
        "    return counts\n",
        "\n",
        "counts = make_counter([1, 2, 2, 3, 5, 6, 6, 6])\n",
        "counts"
      ],
      "execution_count": 30,
      "outputs": [
        {
          "output_type": "execute_result",
          "data": {
            "text/plain": [
              "defaultdict(int, {1: 1, 2: 2, 3: 1, 5: 1, 6: 3})"
            ]
          },
          "metadata": {},
          "execution_count": 30
        }
      ]
    },
    {
      "cell_type": "markdown",
      "source": [
        "Remember this part because it will show up very soon when we talk about histograms, *the chef's knife of a data scientist's data exploration kitchen*. But first, there's one more descriptive statistic that we should cover. \n",
        "\n",
        "## The Mode\n",
        "The mode is simply the most common element. If there are multiple elements with the same count, then there are two modes. If all elements have the same count, there are no modes. If the distribution is _continuous_ (meaning it can take uncountably infinite values, which we will discuss in the Distributions chapter), then we use ranges of values to determine the mode. Honestly, I don't really find the mode too useful. A good time to use it is if there's a lot of _categorical data_ (meaning values like \"blue\", \"red\", \"green\" instead of _numerical data_ like 1,2,3). You might want to know what color car your dealership has the most of.\n",
        "\n",
        "Let's take a look at that example now. I've built a set of cars with up to 20 cars of any of four colors."
      ],
      "metadata": {
        "cell_id": "00045-ee6bf5f5-774e-404c-ab5b-c6a1dc3e56cc",
        "deepnote_cell_type": "markdown",
        "id": "MtUatyF0HEqJ"
      }
    },
    {
      "cell_type": "code",
      "metadata": {
        "scrolled": true,
        "cell_id": "00046-d0f86ee8-3027-4e86-ab0e-a6e7bb09f12b",
        "deepnote_cell_type": "code",
        "id": "utD9ZZwJHEqK",
        "outputId": "ab5278be-84dd-4889-a0f2-58720b75fd2a",
        "colab": {
          "base_uri": "https://localhost:8080/",
          "height": 0
        }
      },
      "source": [
        "car_colors = [\"red\"] * random.randint(1,20) + \\\n",
        "    [\"green\"] * random.randint(1,20) + \\\n",
        "    [\"blue\"] * random.randint(1,20) + \\\n",
        "    [\"black\"] * random.randint(1,20)\n",
        "car_colors"
      ],
      "execution_count": 32,
      "outputs": [
        {
          "output_type": "execute_result",
          "data": {
            "text/plain": [
              "['red',\n",
              " 'red',\n",
              " 'red',\n",
              " 'red',\n",
              " 'red',\n",
              " 'red',\n",
              " 'red',\n",
              " 'red',\n",
              " 'red',\n",
              " 'red',\n",
              " 'red',\n",
              " 'red',\n",
              " 'red',\n",
              " 'red',\n",
              " 'red',\n",
              " 'red',\n",
              " 'red',\n",
              " 'red',\n",
              " 'red',\n",
              " 'red',\n",
              " 'green',\n",
              " 'green',\n",
              " 'green',\n",
              " 'green',\n",
              " 'green',\n",
              " 'green',\n",
              " 'green',\n",
              " 'green',\n",
              " 'green',\n",
              " 'green',\n",
              " 'green',\n",
              " 'green',\n",
              " 'green',\n",
              " 'blue',\n",
              " 'blue',\n",
              " 'blue',\n",
              " 'blue',\n",
              " 'blue',\n",
              " 'blue',\n",
              " 'blue',\n",
              " 'blue',\n",
              " 'blue',\n",
              " 'blue',\n",
              " 'blue',\n",
              " 'black',\n",
              " 'black',\n",
              " 'black',\n",
              " 'black',\n",
              " 'black',\n",
              " 'black',\n",
              " 'black',\n",
              " 'black',\n",
              " 'black',\n",
              " 'black',\n",
              " 'black',\n",
              " 'black',\n",
              " 'black',\n",
              " 'black',\n",
              " 'black',\n",
              " 'black']"
            ]
          },
          "metadata": {},
          "execution_count": 32
        }
      ]
    },
    {
      "cell_type": "code",
      "metadata": {
        "cell_id": "00047-0583ee26-e434-4297-90e2-7253e4d493fd",
        "deepnote_cell_type": "code",
        "id": "pbuzlfo3HEqK",
        "outputId": "60ffa11b-e972-4178-aee9-a86830fd9111",
        "colab": {
          "base_uri": "https://localhost:8080/",
          "height": 0
        }
      },
      "source": [
        "#Using our familiar counter\n",
        "color_count = Counter(car_colors)\n",
        "color_count"
      ],
      "execution_count": 33,
      "outputs": [
        {
          "output_type": "execute_result",
          "data": {
            "text/plain": [
              "Counter({'black': 16, 'blue': 11, 'green': 13, 'red': 20})"
            ]
          },
          "metadata": {},
          "execution_count": 33
        }
      ]
    },
    {
      "cell_type": "code",
      "metadata": {
        "cell_id": "00048-596cba6f-20ce-445d-863f-e4fb05056533",
        "deepnote_cell_type": "code",
        "id": "KvXEthSeHEqL",
        "outputId": "3e6598ff-9def-4daf-ab34-bc91b6583e1b",
        "colab": {
          "base_uri": "https://localhost:8080/",
          "height": 0
        }
      },
      "source": [
        "# We can see the mode above is 'blue' because we have 18. Let's verify:\n",
        "def mode(counter):\n",
        "    # store a list of name:count tuples in case multiple modes\n",
        "    modes = [('',0)]\n",
        "    for k,v in counter.items():\n",
        "        highest_count = modes[0][1]\n",
        "        if v > highest_count:\n",
        "            modes = [(k,v)]\n",
        "        elif v == highest_count:\n",
        "            modes.append((k,v))\n",
        "        \n",
        "    return modes\n",
        "mode(color_count)"
      ],
      "execution_count": 34,
      "outputs": [
        {
          "output_type": "execute_result",
          "data": {
            "text/plain": [
              "[('red', 20)]"
            ]
          },
          "metadata": {},
          "execution_count": 34
        }
      ]
    },
    {
      "cell_type": "code",
      "metadata": {
        "cell_id": "00049-627f32df-0e51-476c-ac26-1fc85684997e",
        "deepnote_cell_type": "code",
        "id": "2NdOxLLuHEqL",
        "outputId": "1061e14b-294a-417d-f375-8fbc2610dbc3",
        "colab": {
          "base_uri": "https://localhost:8080/",
          "height": 0
        }
      },
      "source": [
        "# If we have multiple modes?\n",
        "mode(Counter(['blue']*3 + ['green']*3 + ['black']*2))"
      ],
      "execution_count": 35,
      "outputs": [
        {
          "output_type": "execute_result",
          "data": {
            "text/plain": [
              "[('blue', 3), ('green', 3)]"
            ]
          },
          "metadata": {},
          "execution_count": 35
        }
      ]
    },
    {
      "cell_type": "markdown",
      "source": [
        "But that's enough about modes. Check out wikipedia if you want more because there's no point spending more time on them then they're worth.\n",
        "\n",
        "Hang in there, because we're getting close. Still to come is Percentiles, Boxplots, and Histograms. Three very import things.\n",
        "\n",
        "\n",
        "## Percentiles\n",
        "A percentile is familiar to anyone who has taken the SAT. It answers the question: what percentage of students are dumber than I am? Well the College Board would love to tell you: congratulations, you're in the 92nd percentile!\n",
        "\n",
        "Let's take a look at our old friend Mr. `values` with 10,000 numbers from 1-1000. Since this list is _uniformly distributed_, meaning every value is as likely to occur as any other, we expect that 25% of the numbers to be below 250, 50% to be below 500, and 75% to be below 750. Let's verify:"
      ],
      "metadata": {
        "cell_id": "00050-8b6837c2-f427-4757-9774-581b9cbdd1e1",
        "deepnote_cell_type": "markdown",
        "id": "LVDx72qyHEqM"
      }
    },
    {
      "cell_type": "code",
      "metadata": {
        "cell_id": "00051-eee664b1-0fed-4868-a132-d5990740eb87",
        "deepnote_cell_type": "code",
        "id": "d9J-EqboHEqM",
        "outputId": "69876d67-b8e5-4e70-f9d9-753b279a756d",
        "colab": {
          "base_uri": "https://localhost:8080/",
          "height": 0
        }
      },
      "source": [
        "def percentile(vals, elem):\n",
        "    '''Returns the percent of numbers\n",
        "    below the index.\n",
        "    '''\n",
        "    count = 0\n",
        "    sorted_val = sorted(values)\n",
        "    for val in sorted_val:\n",
        "        if val > elem:\n",
        "            return count/len(values)\n",
        "        count += 1\n",
        "\n",
        "for num in [250, 500, 750]:\n",
        "    print(\"Percentile for {}: {}%\".format(num, percentile(values, num)*100))"
      ],
      "execution_count": 36,
      "outputs": [
        {
          "output_type": "stream",
          "name": "stdout",
          "text": [
            "Percentile for 250: 24.37%\n",
            "Percentile for 500: 49.45%\n",
            "Percentile for 750: 75.48%\n"
          ]
        }
      ]
    },
    {
      "cell_type": "markdown",
      "source": [
        "Just like we'd expect. Now if the data set is not so nice and uniform, we expect these values to be quite different. Let's write a function to give us an element at a particular percentile:"
      ],
      "metadata": {
        "cell_id": "00052-76f45203-eff0-4605-9814-aa6a3b8b5880",
        "deepnote_cell_type": "markdown",
        "id": "GMf0-UAKHEqN"
      }
    },
    {
      "cell_type": "code",
      "metadata": {
        "cell_id": "00053-13985cae-dcd0-46c1-b795-6167e94b9757",
        "deepnote_cell_type": "code",
        "id": "wuQQgr6dHEqN",
        "outputId": "72499e1b-19e1-481c-dbab-4152d2d7c93a",
        "colab": {
          "base_uri": "https://localhost:8080/",
          "height": 0
        }
      },
      "source": [
        "from math import ceil\n",
        "def pct_value(vals, pct):\n",
        "    sorted_vals = sorted(vals)\n",
        "    n = len(vals)\n",
        "    return sorted_vals[ceil(n*pct)]\n",
        "\n",
        "for pct in [.25, .5, .75]:\n",
        "    print(\"Element at percentile {}%: {}\".format(pct*100, pct_value(values, pct)))"
      ],
      "execution_count": 37,
      "outputs": [
        {
          "output_type": "stream",
          "name": "stdout",
          "text": [
            "Element at percentile 25.0%: 256\n",
            "Element at percentile 50.0%: 506\n",
            "Element at percentile 75.0%: 745\n"
          ]
        }
      ]
    },
    {
      "cell_type": "markdown",
      "source": [
        "Notice how the element at the 50th percentile is also our median! Now we have a second definition of the median.\n",
        "\n",
        "Let's take a look now at a highly skewed set. It will range from 0-100 but we'll cluster it around 10"
      ],
      "metadata": {
        "cell_id": "00054-37c6daa8-fe86-4aad-9f14-b695ecc05aa2",
        "deepnote_cell_type": "markdown",
        "id": "jQJvSiKhHEqO"
      }
    },
    {
      "cell_type": "code",
      "metadata": {
        "cell_id": "00055-09a25ce0-a35c-4930-8290-9ca3c6269367",
        "deepnote_cell_type": "code",
        "id": "0rkEScF7HEqP"
      },
      "source": [
        "skewed = []\n",
        "for i in range(1,100):\n",
        "    skewed += [i]*random.randint(0,int(4+i//abs(10.1-i)))"
      ],
      "execution_count": 38,
      "outputs": []
    },
    {
      "cell_type": "code",
      "metadata": {
        "cell_id": "00056-ffaf7dfe-ffdb-4686-946a-77a59f916f43",
        "deepnote_cell_type": "code",
        "id": "1UjCPM-UHEqS",
        "outputId": "bfc1cb45-971b-4036-f6ab-d6dd8bab6b46",
        "colab": {
          "base_uri": "https://localhost:8080/",
          "height": 0
        }
      },
      "source": [
        "def print_statistics(vals, calc_mode=True):\n",
        "    print(\"Count: {}\".format(len(vals)))\n",
        "    print(\"Mean: {:.2f}\".format(arithmetic_mean(vals)))\n",
        "    print(\"Median: {}\".format(median(vals)))\n",
        "    if calc_mode: print(\"Mode: {}\".format(mode(Counter(vals))))\n",
        "    print(\"Max: {}\".format(max(vals)))\n",
        "    print(\"Min: {}\".format(min(vals)))\n",
        "    print(\"Range: {}\".format(max(vals)-min(vals)))\n",
        "    for pct in [.25, .5, .75]:\n",
        "        print(\"{:.0f}th Percentile: {}\".format(pct*100, pct_value(vals, pct)))\n",
        "    print(\"IQR: {}\".format(pct_value(vals, 0.75) - pct_value(vals, 0.25)))\n",
        "\n",
        "print_statistics(skewed)"
      ],
      "execution_count": 39,
      "outputs": [
        {
          "output_type": "stream",
          "name": "stdout",
          "text": [
            "Count: 296\n",
            "Mean: 45.49\n",
            "Median: 43.5\n",
            "Mode: [(10, 18)]\n",
            "Max: 99\n",
            "Min: 3\n",
            "Range: 96\n",
            "25th Percentile: 15\n",
            "50th Percentile: 44\n",
            "75th Percentile: 71\n",
            "IQR: 56\n"
          ]
        }
      ]
    },
    {
      "cell_type": "markdown",
      "source": [
        "A few clues that this distribution is skewed:\n",
        "* The mean is significantly different from the median\n",
        "* The percentiles cluster around 25. A uniform distribution we'd expect 25, 50, and 75 for our percentiles.\n",
        "* The max i smuch higher than the mean, median, or even 75th percentile.\n",
        "\n",
        "Let's take a look at a simple plot to describe all of these statistics to us:\n",
        "\n",
        "## The Boxplot\n",
        "Also sometimes the Box-and-Whisker plot, this is a great way to visualize a lot of the information our `print_statistics` function displayed. In particular, we can see in one graph\n",
        "* Median\n",
        "* 75th percentile (called the third quartile)\n",
        "* 25th percentile (called the first quartile)\n",
        "* The reach ($\\pm1.5*IQR$), which shows outliers\n",
        "\n",
        "It does not show the mean, but it can be intuited by looking at the plot. Let's take a look at plots for values and skewed:"
      ],
      "metadata": {
        "cell_id": "00057-be531bbd-4fef-4c71-bf33-75c6da5d2672",
        "deepnote_cell_type": "markdown",
        "id": "7mQkPKxxHEqV"
      }
    },
    {
      "cell_type": "code",
      "metadata": {
        "cell_id": "00058-7305f823-3324-4834-9485-1c100cb68546",
        "deepnote_cell_type": "code",
        "id": "g-5ZJ0OwHEqW",
        "outputId": "3b11b4ce-c2ff-4abc-c8aa-383e1cc16d40",
        "colab": {
          "base_uri": "https://localhost:8080/",
          "height": 337
        }
      },
      "source": [
        "sns.boxplot(values)"
      ],
      "execution_count": 40,
      "outputs": [
        {
          "output_type": "stream",
          "name": "stderr",
          "text": [
            "/usr/local/lib/python3.7/dist-packages/seaborn/_decorators.py:43: FutureWarning: Pass the following variable as a keyword arg: x. From version 0.12, the only valid positional argument will be `data`, and passing other arguments without an explicit keyword will result in an error or misinterpretation.\n",
            "  FutureWarning\n"
          ]
        },
        {
          "output_type": "execute_result",
          "data": {
            "text/plain": [
              "<matplotlib.axes._subplots.AxesSubplot at 0x7fdb3dc33990>"
            ]
          },
          "metadata": {},
          "execution_count": 40
        },
        {
          "output_type": "display_data",
          "data": {
            "image/png": "[encoded data removed]",
            "text/plain": [
              "<Figure size 432x288 with 1 Axes>"
            ]
          },
          "metadata": {
            "needs_background": "light"
          }
        }
      ]
    },
    {
      "cell_type": "markdown",
      "source": [
        "A classic uniform distribution: centered about 500, the median goes right down the middle, and the whiskers are evenly spaced. Now let's take a look at the `skewed` list:"
      ],
      "metadata": {
        "cell_id": "00059-d0c2af11-6a11-4e39-aef9-37120bd1264a",
        "deepnote_cell_type": "markdown",
        "id": "yzdgI5IQHEqX"
      }
    },
    {
      "cell_type": "code",
      "metadata": {
        "cell_id": "00060-ade91442-81dc-4930-8f08-b2e43d552c72",
        "deepnote_cell_type": "code",
        "id": "k49vFIyQHEqX",
        "outputId": "3d0b9ac1-7d41-4c5e-ceb2-cefdee160118",
        "colab": {
          "base_uri": "https://localhost:8080/",
          "height": 337
        }
      },
      "source": [
        "sns.boxplot(skewed)"
      ],
      "execution_count": 41,
      "outputs": [
        {
          "output_type": "stream",
          "name": "stderr",
          "text": [
            "/usr/local/lib/python3.7/dist-packages/seaborn/_decorators.py:43: FutureWarning: Pass the following variable as a keyword arg: x. From version 0.12, the only valid positional argument will be `data`, and passing other arguments without an explicit keyword will result in an error or misinterpretation.\n",
            "  FutureWarning\n"
          ]
        },
        {
          "output_type": "execute_result",
          "data": {
            "text/plain": [
              "<matplotlib.axes._subplots.AxesSubplot at 0x7fdb3d6afe10>"
            ]
          },
          "metadata": {},
          "execution_count": 41
        },
        {
          "output_type": "display_data",
          "data": {
            "image/png": "[encoded data removed]",
            "text/plain": [
              "<Figure size 432x288 with 1 Axes>"
            ]
          },
          "metadata": {
            "needs_background": "light"
          }
        }
      ]
    },
    {
      "cell_type": "markdown",
      "source": [
        "Looks pretty different? Instead of being centered around 50, it looks like the box is centered around 40. The median is at 27 and much of the box is to the right of it. This shows us that the distribution is skewed to the right. \n",
        "\n",
        "There's another important way to visualize a distribution and that is\n",
        "\n",
        "## Histogram\n",
        "Ah, the moment we've all been waiting for. I keep teaching you ways to describe a dataset, but sometimes a picture is worth a thousand words. That picture is the Histogram.\n",
        "\n",
        "A histogram is a bar chart in which the values of the dataset are plotted horizontally on the X axis and the _frequencies_ (i.e. how many times that value was seen) are plotted on the Y axis. If you remember our functions to make a counter, a histogram is essentially a chart of those counts.\n",
        "\n",
        "Think for a minute on what the histogram for our uniform dataset of 10,000 randomly generated numbers would look like? Pretty boring right?"
      ],
      "metadata": {
        "cell_id": "00061-16682128-9b73-419c-88e7-2e9baae1656f",
        "deepnote_cell_type": "markdown",
        "id": "YG1_eHouHEqX"
      }
    },
    {
      "cell_type": "code",
      "metadata": {
        "cell_id": "00062-349e1f9f-8f94-4356-8222-317d6f414b66",
        "deepnote_cell_type": "code",
        "id": "hp8ubTPAHEqY",
        "outputId": "551264bc-cb87-4c58-cacc-b3f9f13ed9a5",
        "colab": {
          "base_uri": "https://localhost:8080/",
          "height": 340
        }
      },
      "source": [
        "# Seaborn gives an easy way to plot histograms. Plotting from scratch is beyond the\n",
        "# scope of the programming we will do\n",
        "sns.distplot(values, kde=False, bins=100)"
      ],
      "execution_count": 44,
      "outputs": [
        {
          "output_type": "stream",
          "name": "stderr",
          "text": [
            "/usr/local/lib/python3.7/dist-packages/seaborn/distributions.py:2619: FutureWarning: `distplot` is a deprecated function and will be removed in a future version. Please adapt your code to use either `displot` (a figure-level function with similar flexibility) or `histplot` (an axes-level function for histograms).\n",
            "  warnings.warn(msg, FutureWarning)\n"
          ]
        },
        {
          "output_type": "execute_result",
          "data": {
            "text/plain": [
              "<matplotlib.axes._subplots.AxesSubplot at 0x7fdb3d36b610>"
            ]
          },
          "metadata": {},
          "execution_count": 44
        },
        {
          "output_type": "display_data",
          "data": {
            "image/png": "[encoded data removed]",
            "text/plain": [
              "<Figure size 432x288 with 1 Axes>"
            ]
          },
          "metadata": {
            "needs_background": "light"
          }
        }
      ]
    },
    {
      "cell_type": "markdown",
      "source": [
        "Seaborn's helpful `sns.distplot()` method simply turns a dataset into a histogram for us. The `bins` parameter allows us to make bins where instead of the frequency count of each variable, we plot the frequency count of a range of variables. This is very useful when we have continuous distribution (i.e. one that can take an infinite number of values of the range), as plotting every individual value is unfeasible and would make for an ugly graph.\n",
        "\n",
        "Let's take a look at our skewed data:"
      ],
      "metadata": {
        "cell_id": "00063-08836d9a-8a41-47d6-a367-ce73bbc6d85f",
        "deepnote_cell_type": "markdown",
        "id": "KjWtfEcZHEqY"
      }
    },
    {
      "cell_type": "code",
      "metadata": {
        "cell_id": "00064-f5a4b430-6cb4-4eb3-8613-f63bb6afec31",
        "deepnote_cell_type": "code",
        "id": "ECeKdaQtHEqZ",
        "outputId": "976dbc82-034b-4525-99d8-af088c825865",
        "colab": {
          "base_uri": "https://localhost:8080/",
          "height": 337
        }
      },
      "source": [
        "sns.distplot(skewed, kde=False, bins=100)"
      ],
      "execution_count": 45,
      "outputs": [
        {
          "output_type": "stream",
          "name": "stderr",
          "text": [
            "/usr/local/lib/python3.7/dist-packages/seaborn/distributions.py:2619: FutureWarning: `distplot` is a deprecated function and will be removed in a future version. Please adapt your code to use either `displot` (a figure-level function with similar flexibility) or `histplot` (an axes-level function for histograms).\n",
            "  warnings.warn(msg, FutureWarning)\n"
          ]
        },
        {
          "output_type": "execute_result",
          "data": {
            "text/plain": [
              "<matplotlib.axes._subplots.AxesSubplot at 0x7fdb3d395fd0>"
            ]
          },
          "metadata": {},
          "execution_count": 45
        },
        {
          "output_type": "display_data",
          "data": {
            "image/png": "[encoded data removed]",
            "text/plain": [
              "<Figure size 432x288 with 1 Axes>"
            ]
          },
          "metadata": {
            "needs_background": "light"
          }
        }
      ]
    },
    {
      "cell_type": "markdown",
      "source": [
        "The data has tons of values around 10, and everything else hovers around 4. This type of distribution is called \"unimodal\" in that it has one peak, or one \"contender\" for the mode. Practically, unimodal and bimodal are incredibly common.\n",
        "\n",
        "I'm going to jump ahead to the next notebooks where we generate and describe different types of these distributions, how they're used, and how to describe them. One of the most basic and fundamental distribution in statistics is the unimodal Normal (or Gaussian) distribution. It's the familiar bell-curve. Let's use a simple, albeit slow, function to generate numbers according to the normal distribution."
      ],
      "metadata": {
        "cell_id": "00065-b92da32b-d03f-4c5e-bf43-026500276626",
        "deepnote_cell_type": "markdown",
        "id": "7sExC-B6HEqZ"
      }
    },
    {
      "cell_type": "code",
      "metadata": {
        "cell_id": "00066-4da4d016-e1cb-4d0b-98db-1ce79f1f704d",
        "deepnote_cell_type": "code",
        "id": "n33cH8EDHEqZ"
      },
      "source": [
        "from math import sqrt, log, cos, sin, pi\n",
        "\n",
        "def generateGauss():\n",
        "    x1 = random.random() # generate a random float in [0,1.0)\n",
        "    x2 = random.random()\n",
        "    y1 = sqrt(-2 *log(x1)) * cos(2*pi*x2)\n",
        "    y2 = sqrt(-2*log(x1)) * sin(2*pi*x2)\n",
        "    return y1, y2\n",
        "\n",
        "gaussValues = []\n",
        "for _ in range(10000):\n",
        "    gaussValues += list(generateGauss())"
      ],
      "execution_count": 46,
      "outputs": []
    },
    {
      "cell_type": "code",
      "metadata": {
        "cell_id": "00067-9f797cae-1fe6-49b1-accd-68e62cd532d0",
        "deepnote_cell_type": "code",
        "id": "ep5cV_EwHEqa",
        "outputId": "3976dc39-3445-4968-f00c-2c403ca13def",
        "colab": {
          "base_uri": "https://localhost:8080/",
          "height": 0
        }
      },
      "source": [
        "#Let's take a peek:\n",
        "gaussValues"
      ],
      "execution_count": 47,
      "outputs": [
        {
          "output_type": "execute_result",
          "data": {
            "text/plain": [
              "[-1.036806535851344,\n",
              " 0.3365492703063446,\n",
              " 0.5647644201425441,\n",
              " 1.323097124551028,\n",
              " -0.885320982302321,\n",
              " -0.47188093578604334,\n",
              " 0.047955459881986705,\n",
              " 0.5746934606014507,\n",
              " -0.9949409228291612,\n",
              " 0.6240862352894445,\n",
              " -0.737497940821195,\n",
              " 0.8159414648985025,\n",
              " -0.19085374583120554,\n",
              " -0.08711326444119062,\n",
              " 0.6336776194126372,\n",
              " 0.5458029565386199,\n",
              " -0.4415302083425239,\n",
              " -1.1254387957138152,\n",
              " -0.2316635552123139,\n",
              " -1.9618758135950882,\n",
              " 0.181016500910358,\n",
              " -0.018640409906697582,\n",
              " -0.6898932607586278,\n",
              " 0.15449923407619964,\n",
              " 1.7386317193410077,\n",
              " -1.439877162467125,\n",
              " -2.169523559856579,\n",
              " 0.3793227617997027,\n",
              " 0.7492898393014542,\n",
              " -0.1903235409249126,\n",
              " -1.5073686196574534,\n",
              " -1.6816162998031756,\n",
              " -0.25700927845784616,\n",
              " 0.6204783572860695,\n",
              " -1.3449988539073687,\n",
              " 2.0185244702901306,\n",
              " -0.694110065359546,\n",
              " 0.1375284963852512,\n",
              " -1.1344392650330999,\n",
              " 0.22208165797042825,\n",
              " -0.6918524976872877,\n",
              " 0.37461714634861243,\n",
              " 0.08462300587477241,\n",
              " -0.27068848442544163,\n",
              " 1.536544154600503,\n",
              " 0.34676685110505784,\n",
              " -0.0014468883533416083,\n",
              " -0.40067891137193024,\n",
              " -0.7354574233047259,\n",
              " -0.31118772205635564,\n",
              " -2.3287165227124187,\n",
              " 0.3964741149640296,\n",
              " 1.7871099123637524,\n",
              " 0.6008441946601507,\n",
              " 0.05032704799444483,\n",
              " -0.12973421540702404,\n",
              " -0.22253716135429918,\n",
              " 0.9448128110028045,\n",
              " -2.232375689028342,\n",
              " -0.07852579995914302,\n",
              " -0.09873087396562322,\n",
              " 0.5584732391047466,\n",
              " -0.38876650078525954,\n",
              " 1.9724656807112781,\n",
              " 0.5515405768901688,\n",
              " 0.04935063644502689,\n",
              " 0.9553695876740644,\n",
              " 1.8638251923771065,\n",
              " 0.5961640665571674,\n",
              " 0.832984062211629,\n",
              " 0.4513215532198715,\n",
              " -1.1866990558499775,\n",
              " -0.4987178348691309,\n",
              " -1.5607099861878213,\n",
              " 0.36727320282901166,\n",
              " -1.14571341293239,\n",
              " -0.30018316754296814,\n",
              " 0.4548149152553265,\n",
              " 1.362076743302796,\n",
              " 1.7575801455331985,\n",
              " 0.20943486305963055,\n",
              " 0.3046624881044754,\n",
              " 1.1833386149763858,\n",
              " -0.047717962433073656,\n",
              " 0.0546494043888004,\n",
              " 0.7202693263415101,\n",
              " -0.8315262418614369,\n",
              " -0.9745175435818657,\n",
              " -0.173095932761272,\n",
              " -1.7559015901194186,\n",
              " -0.9137873049426319,\n",
              " -1.1370908406894937,\n",
              " 0.5586242583940162,\n",
              " 0.4987308597364578,\n",
              " -1.5202855100577415,\n",
              " 1.122977032385816,\n",
              " -0.037457472052743634,\n",
              " -1.548369804352245,\n",
              " -0.7385634933215259,\n",
              " -0.1530499686109917,\n",
              " -0.38310475251063225,\n",
              " -1.3377023315649141,\n",
              " 0.7473929574798563,\n",
              " 0.9654084860794533,\n",
              " 0.5256850050062793,\n",
              " 0.039256067698273694,\n",
              " -0.3688190057886453,\n",
              " 0.12286547951384595,\n",
              " 0.8554754756448025,\n",
              " -0.20957754956630695,\n",
              " 0.8445851917512266,\n",
              " 0.22261832587341224,\n",
              " -0.26929369098906286,\n",
              " -0.3149982963786325,\n",
              " -0.27227328820052565,\n",
              " 0.12440983864891485,\n",
              " 0.2603010420222047,\n",
              " -0.3213527770298021,\n",
              " -0.1584893908789852,\n",
              " 1.4704846834001981,\n",
              " -1.218097095553957,\n",
              " -1.7765624912957072,\n",
              " 0.19860270660134144,\n",
              " -1.3556791812583115,\n",
              " -0.07479778283026894,\n",
              " -0.7564358150649722,\n",
              " 0.3491375333994845,\n",
              " 0.9683478640489526,\n",
              " -0.5402500182551064,\n",
              " -1.3715184996685932,\n",
              " -1.7699028294845462,\n",
              " -0.5458636545755478,\n",
              " 0.4371559139636625,\n",
              " -0.7755665794643075,\n",
              " 2.432065196623584,\n",
              " 1.713825544535345,\n",
              " -2.0064550091503257,\n",
              " 0.7089787276178845,\n",
              " -0.36173403111723157,\n",
              " 1.7037362286953215,\n",
              " 1.7935723314293575,\n",
              " 0.26908080901924314,\n",
              " 2.0237038594260066,\n",
              " -0.8233061195229378,\n",
              " 0.46919285516264475,\n",
              " -0.7881635636386303,\n",
              " -0.20607775951483245,\n",
              " -0.24308316012505998,\n",
              " 0.6057885916460163,\n",
              " 0.5687094167505249,\n",
              " 0.3813393106551413,\n",
              " 0.4056111901996017,\n",
              " 0.7420039505717666,\n",
              " -0.539829919722217,\n",
              " 1.0441857483709684,\n",
              " -0.21853012273096564,\n",
              " -0.15693487569950465,\n",
              " -0.44158525520745034,\n",
              " -1.6215403277069176,\n",
              " 0.3415936814983309,\n",
              " -0.23362895858810032,\n",
              " -0.27804340603820576,\n",
              " -0.06619373694922889,\n",
              " 0.39563951849069046,\n",
              " 1.0715555843268783,\n",
              " -0.7441699534984301,\n",
              " -0.32185494120633634,\n",
              " 0.6476490677891363,\n",
              " 1.7055292547602394,\n",
              " 0.8555157830345546,\n",
              " -0.5261690177720252,\n",
              " 0.47697308546096795,\n",
              " 1.3792875274429062,\n",
              " 0.5466865853596286,\n",
              " -0.027728930759066475,\n",
              " 0.30008483043280115,\n",
              " -1.2786394404335126,\n",
              " 0.06656661731617997,\n",
              " -0.29614052693487836,\n",
              " -0.2459363858983418,\n",
              " -1.854293297326277,\n",
              " 0.09261631851892568,\n",
              " 0.2309274499398767,\n",
              " -1.9555885800520296,\n",
              " -1.0834969215588695,\n",
              " -1.3671181872449172,\n",
              " -0.09224155736906535,\n",
              " -0.417596101445723,\n",
              " 1.9110768118580954,\n",
              " 0.9424811348623007,\n",
              " -0.003964580935634858,\n",
              " 1.0580689581160154,\n",
              " 1.0116318472682115,\n",
              " -0.7694170798835139,\n",
              " -1.240961777018586,\n",
              " -1.5065154514753958,\n",
              " -0.19052920693858674,\n",
              " -0.3203538780819165,\n",
              " -0.5020546071109359,\n",
              " -1.546990623311861,\n",
              " -0.3994125969353873,\n",
              " -0.20237498475535878,\n",
              " 1.0702947166244574,\n",
              " -0.4244515742232178,\n",
              " -1.098267745300628,\n",
              " 0.4666223046292223,\n",
              " 0.11248046095793734,\n",
              " -0.5713468649978845,\n",
              " -0.673126903328519,\n",
              " -0.173410016228358,\n",
              " 3.2405735975563066,\n",
              " -0.9601523641984759,\n",
              " -0.6298907466578125,\n",
              " 0.07127833025208132,\n",
              " 0.9773944333437562,\n",
              " -0.4226487794645677,\n",
              " -0.5945416228237708,\n",
              " -1.3022446377361285,\n",
              " -0.911741442262022,\n",
              " -0.9991182981752463,\n",
              " 0.2441955501719211,\n",
              " 0.15641055001680615,\n",
              " 1.0855370717845427,\n",
              " -0.27199970644151367,\n",
              " -2.1732082174238356,\n",
              " 0.5632372447017407,\n",
              " -0.4367896294013375,\n",
              " -0.5839819115413957,\n",
              " 1.8055580325306106,\n",
              " 0.4555094778849784,\n",
              " 0.5010908254860881,\n",
              " 1.2892948243955458,\n",
              " 0.6776238742007141,\n",
              " -0.5157280590436372,\n",
              " -0.6086557360305777,\n",
              " 0.7427322265544227,\n",
              " -1.4918434768713373,\n",
              " -1.6455544234239812,\n",
              " 0.5000510974652862,\n",
              " 0.6040169892110497,\n",
              " -0.3427566515550836,\n",
              " -1.7809232074892685,\n",
              " -1.0200630869544813,\n",
              " 0.06911670866912589,\n",
              " -2.2755652969166817,\n",
              " -0.5926867973610426,\n",
              " -1.500494628795137,\n",
              " -0.3249233136357373,\n",
              " -0.5717521662839468,\n",
              " 0.188528730899179,\n",
              " 0.08891527641469928,\n",
              " 0.021076637257313815,\n",
              " 0.5644923805529524,\n",
              " -2.333283463396998,\n",
              " 1.8494067532076999,\n",
              " 1.6974834302334587,\n",
              " -0.32502274116034235,\n",
              " -0.5683013637447211,\n",
              " -0.5454352418331957,\n",
              " -1.1236796371432192,\n",
              " 0.30747398699763795,\n",
              " 0.4174029420897598,\n",
              " 0.9304186947245675,\n",
              " -0.4754291128664425,\n",
              " 1.6177455485617298,\n",
              " 1.995794979499027,\n",
              " -0.906820600559697,\n",
              " 0.16579363211049397,\n",
              " 0.3966019182782492,\n",
              " 0.1173930834150939,\n",
              " 0.5745886069729524,\n",
              " 0.6160325264886929,\n",
              " 1.7838918417030811,\n",
              " 0.5791011503425795,\n",
              " 0.4164696564917627,\n",
              " -1.4785708210875501,\n",
              " 0.5988196257373528,\n",
              " 1.1005137620647434,\n",
              " 0.4237870522734691,\n",
              " -0.9338839729124667,\n",
              " -2.116825287743523,\n",
              " 0.037996734552444796,\n",
              " 0.1231017221644104,\n",
              " 0.6581763262431493,\n",
              " -0.5900461676989193,\n",
              " 0.2950079173265313,\n",
              " 0.6422482964512842,\n",
              " -0.07216010759904518,\n",
              " -0.3961574572999253,\n",
              " 0.7868303717704138,\n",
              " -0.1963897847820464,\n",
              " -0.10157331133521583,\n",
              " 1.0296915581376829,\n",
              " -1.706013184361071,\n",
              " 0.06078785883058653,\n",
              " -0.678168525383685,\n",
              " -0.5231095968349441,\n",
              " 0.8781745834397192,\n",
              " 1.2983478192019702,\n",
              " 1.594501057348008,\n",
              " -0.43898585770277265,\n",
              " -1.2511999605346242,\n",
              " -1.0080115870305757,\n",
              " 0.4089414723758099,\n",
              " 0.3802375745842577,\n",
              " 0.09941024192680122,\n",
              " 1.2325569655264816,\n",
              " -1.7568769457588997,\n",
              " 0.17124417817359147,\n",
              " -0.9753353868008431,\n",
              " -2.8742722001951146,\n",
              " 0.23588946508677683,\n",
              " 1.3650111096160487,\n",
              " 2.8732348226699513,\n",
              " -1.2727649741594538,\n",
              " -1.7930799540998765,\n",
              " -0.4235889557830987,\n",
              " 0.24613885552755702,\n",
              " 0.09241821711055004,\n",
              " -0.6475351548885285,\n",
              " 0.23322524281369497,\n",
              " 0.8251722623965536,\n",
              " -0.935124205418405,\n",
              " -0.13660774398043599,\n",
              " 1.232170591410566,\n",
              " -0.5050420161013056,\n",
              " 0.9657685125923213,\n",
              " 0.2326385693342674,\n",
              " -1.8519152135082815,\n",
              " 0.0013074722160040203,\n",
              " -0.22265608787017266,\n",
              " -0.22887431121377572,\n",
              " -0.4039028738686462,\n",
              " 0.5719903625051269,\n",
              " 0.29581011328169704,\n",
              " 3.2693978740247305,\n",
              " -2.0322787728208658,\n",
              " -0.3903123521343207,\n",
              " -1.400775747983073,\n",
              " 1.652645970192068,\n",
              " -0.7159615116150563,\n",
              " -0.1824991953607786,\n",
              " 0.22193776630043183,\n",
              " -1.727886149648659,\n",
              " -0.150856635973027,\n",
              " 0.9001739372301469,\n",
              " 0.5230885134380154,\n",
              " -1.7346676126401521,\n",
              " 0.8525656507267881,\n",
              " -0.17056707628971998,\n",
              " 0.5453481848701375,\n",
              " 1.092680232146389,\n",
              " 0.8620921432403832,\n",
              " 0.23942961089650597,\n",
              " -0.20470937785891052,\n",
              " 0.914076340343599,\n",
              " -0.6521722117544132,\n",
              " 1.114001868399533,\n",
              " 0.034764679736988165,\n",
              " -0.6574463145101995,\n",
              " -0.1507816663935344,\n",
              " -2.501132309003751,\n",
              " 0.17747309912521192,\n",
              " 0.3531659631654687,\n",
              " -0.6918440188009624,\n",
              " 0.06512925209400765,\n",
              " 1.6405056741505273,\n",
              " -1.2712000080181216,\n",
              " -0.6748851792493068,\n",
              " -0.4445722386425499,\n",
              " 0.473846222157567,\n",
              " 1.420336372477313,\n",
              " -0.40449293189666535,\n",
              " 0.7854865613392961,\n",
              " -0.3253477926683853,\n",
              " 0.6274557750858987,\n",
              " -0.16573764352728376,\n",
              " -2.1486735929725866,\n",
              " -0.3746002113252921,\n",
              " 0.37210241326353266,\n",
              " -1.7096598154501863,\n",
              " 0.315123408235942,\n",
              " 0.9300638596889443,\n",
              " -0.7646161744217131,\n",
              " 1.7670941353731189,\n",
              " -0.860367128523198,\n",
              " -0.9534189713742959,\n",
              " 0.8160564355654438,\n",
              " -0.37622681596523605,\n",
              " -1.9602838541305205,\n",
              " 0.9466720070243644,\n",
              " -0.14655052461391022,\n",
              " 1.2466045517930757,\n",
              " 1.2817430773754643,\n",
              " 0.7982022505546236,\n",
              " 0.3140118464045256,\n",
              " 1.1897350711630201,\n",
              " -1.602301413844407,\n",
              " 0.593288161256985,\n",
              " 1.0987515129595486,\n",
              " 1.104984595455721,\n",
              " -0.9569236520470275,\n",
              " 0.24710553100055527,\n",
              " -0.9739131053746422,\n",
              " -0.7246645332120628,\n",
              " -0.6113082445924998,\n",
              " 1.8496822667265123,\n",
              " -0.3512098390599994,\n",
              " 0.4791235032141212,\n",
              " 0.28937671154764444,\n",
              " -0.5543285783977443,\n",
              " 0.03762681324192284,\n",
              " -0.07820916989656759,\n",
              " -0.05072970950209857,\n",
              " -0.10873068134573487,\n",
              " 0.5865716305293645,\n",
              " -0.06880686439522327,\n",
              " -0.7903407257759576,\n",
              " -0.7810349810325504,\n",
              " 1.4797028049187082,\n",
              " 0.8124891439675112,\n",
              " -0.6566234950096772,\n",
              " 0.6074429727358405,\n",
              " 0.824792086116485,\n",
              " 1.0536431453908275,\n",
              " 0.03362619101156904,\n",
              " 0.19377055417609734,\n",
              " 0.04982798166600118,\n",
              " 0.14320157712298612,\n",
              " -1.2193290173124305,\n",
              " -2.5552057411112874,\n",
              " -0.5061214700893337,\n",
              " 0.36039187187888183,\n",
              " -1.1580599242923788,\n",
              " -0.5996909932364908,\n",
              " 0.18473089778109245,\n",
              " -1.5754734545752787,\n",
              " -0.6065131517488735,\n",
              " -0.33828954574479414,\n",
              " -2.9431229883052223,\n",
              " 0.2153903327611843,\n",
              " 0.23734524499571816,\n",
              " -0.9360574675790684,\n",
              " -1.2490014386716775,\n",
              " -2.17318025979359,\n",
              " 0.2775480189811552,\n",
              " -0.44578524825167454,\n",
              " -1.4755454127622336,\n",
              " -0.009437588549253997,\n",
              " -0.553529455453237,\n",
              " -2.615970723071899,\n",
              " 0.7628481960651412,\n",
              " 0.506337624149625,\n",
              " -0.5114598272440349,\n",
              " 0.33304855665635313,\n",
              " -1.3019355813127844,\n",
              " -1.3740226194513372,\n",
              " 0.3135202039600309,\n",
              " 0.6109335689228926,\n",
              " -0.7348871972429358,\n",
              " 1.8048775636830787,\n",
              " -1.4286623898725328,\n",
              " 1.4519465632159168,\n",
              " 0.30272193259250907,\n",
              " -0.16203944073884852,\n",
              " 1.2964698390824776,\n",
              " -0.32113859365039765,\n",
              " -0.08771285339230431,\n",
              " 0.15914906138256266,\n",
              " -0.6594009762938863,\n",
              " 1.642667749968808,\n",
              " -1.5261934631272898,\n",
              " 0.7373904143053718,\n",
              " 0.26449166991342066,\n",
              " -0.15289635137575738,\n",
              " -0.29846533659979807,\n",
              " 0.37370015601406087,\n",
              " 0.31299365385778766,\n",
              " -1.0394010568056262,\n",
              " -0.9654668965347903,\n",
              " 0.641932304353444,\n",
              " 1.2651132982419457,\n",
              " 0.9846596030342497,\n",
              " 0.4409160025320706,\n",
              " 0.23265441136242637,\n",
              " 0.7954373876108046,\n",
              " 0.013884050724444815,\n",
              " 0.1940617077351669,\n",
              " -2.0668633157022134,\n",
              " 0.2810067783935127,\n",
              " -0.31039189439249343,\n",
              " -0.1709427129861177,\n",
              " 0.07222981740660522,\n",
              " 0.27981233281720447,\n",
              " 0.11794454710083382,\n",
              " 0.7581466441284934,\n",
              " -0.157139423763513,\n",
              " 1.4351013603908576,\n",
              " -0.1490041200249086,\n",
              " 0.8651334959502769,\n",
              " -1.3230689536116658,\n",
              " 1.9408873881100406,\n",
              " -1.184062156191583,\n",
              " -0.20039104847416528,\n",
              " -0.5115897337280261,\n",
              " -1.9834686857026753,\n",
              " -0.8623750968904836,\n",
              " -0.18059890736941964,\n",
              " -1.1369495424069882,\n",
              " -1.0805271272421135,\n",
              " 0.6292399351270778,\n",
              " -0.2249101000924414,\n",
              " 0.6070351803479623,\n",
              " -0.23648617009164927,\n",
              " 1.816033438489813,\n",
              " -1.466131200580325,\n",
              " 1.0946755977163771,\n",
              " 0.603330171360586,\n",
              " -0.11078965727530514,\n",
              " 0.4505736967344077,\n",
              " 0.23021285844181943,\n",
              " 0.18890641247133233,\n",
              " -0.5237810186413316,\n",
              " -1.5168313251986454,\n",
              " 0.8369327376280853,\n",
              " -0.8370048936466492,\n",
              " -0.7962039262035902,\n",
              " -0.8193102117717501,\n",
              " 1.5379901263854343,\n",
              " -0.2976498699543215,\n",
              " 0.7479455819009101,\n",
              " 0.8170936756372931,\n",
              " -1.3659207069016805,\n",
              " 0.50284197461445,\n",
              " -0.2416637721201929,\n",
              " 0.9053105880692303,\n",
              " 1.6291191894574042,\n",
              " -1.6961177188529657,\n",
              " 1.616274142870914,\n",
              " -0.5539562922415127,\n",
              " -0.7964535677312302,\n",
              " 0.4936485135272979,\n",
              " -0.8892131366048295,\n",
              " -1.1621359923531844,\n",
              " -1.246432465346843,\n",
              " -0.8283978201699388,\n",
              " 0.46396882010386326,\n",
              " -0.7120843740239894,\n",
              " -0.4239966139291902,\n",
              " 1.199348685724778,\n",
              " 0.49252894343068987,\n",
              " -1.951413647822495,\n",
              " -0.11795314275117766,\n",
              " 1.8734107076764692,\n",
              " 1.1839820544734336,\n",
              " -0.2202791273431276,\n",
              " 0.6917098596916093,\n",
              " 0.2119366352818016,\n",
              " -1.3879041873843612,\n",
              " 0.3944763218044795,\n",
              " 1.6828332594885773,\n",
              " -0.8690440788238709,\n",
              " -0.18111648140804051,\n",
              " 0.8044123511424004,\n",
              " 0.12405450246927711,\n",
              " -0.19730510060055534,\n",
              " -0.42977467934413316,\n",
              " -0.7410468784003185,\n",
              " 0.14698520176759194,\n",
              " 1.9304669972765827,\n",
              " -1.0268501609051266,\n",
              " 2.3079364512020324,\n",
              " -0.13288171443321725,\n",
              " 2.0292331598678817,\n",
              " -1.6986507271385611,\n",
              " -0.7034446519016778,\n",
              " -1.0587129128583457,\n",
              " 2.3668094868656375,\n",
              " -1.0196027718906178,\n",
              " 1.0466742930014403,\n",
              " 0.5795730394000231,\n",
              " 0.9470805244275406,\n",
              " 1.3589111632184463,\n",
              " -0.7422496442083504,\n",
              " -1.3453158094252495,\n",
              " 0.004928755814862367,\n",
              " -1.896007644297458,\n",
              " 0.5117715262938274,\n",
              " 1.5085918216224972,\n",
              " 0.04071458353877069,\n",
              " 0.7695092319975061,\n",
              " -0.11890116570790249,\n",
              " -0.4106607393946187,\n",
              " -1.4286135013031183,\n",
              " -0.30263278469762267,\n",
              " 1.1840127752825298,\n",
              " 0.3369717270335949,\n",
              " -0.041086485839393366,\n",
              " 0.6351281264125769,\n",
              " 0.8413164934793755,\n",
              " 0.8905164655799093,\n",
              " -0.5899323403303336,\n",
              " -0.4766979346960184,\n",
              " -1.185399679212241,\n",
              " 0.6400582595123646,\n",
              " -0.46395837961539377,\n",
              " -1.8841742677082105,\n",
              " -0.6247949441246674,\n",
              " -1.2506314580690363,\n",
              " 0.8892121502075624,\n",
              " -0.5551467667432053,\n",
              " 0.1960409013772244,\n",
              " 2.05292691795555,\n",
              " 0.7395893129992288,\n",
              " -0.8160164193391253,\n",
              " -0.47179822975115293,\n",
              " 1.5948081182645932,\n",
              " -0.6822369606535871,\n",
              " 1.5842139843134353,\n",
              " 0.22596108941038598,\n",
              " -1.0480662641878542,\n",
              " 0.3739230381415093,\n",
              " 0.7612242232747899,\n",
              " 0.46566955449886716,\n",
              " 0.3958331231090269,\n",
              " 1.0876615336504771,\n",
              " -1.1960326686589329,\n",
              " -0.9286750896592486,\n",
              " 0.286419487823943,\n",
              " -0.18571242657961817,\n",
              " 0.8538223556530276,\n",
              " 1.1438455633144275,\n",
              " -0.38392172371150574,\n",
              " 0.4107446720758774,\n",
              " -0.303419456735654,\n",
              " 1.3715669555675432,\n",
              " 1.4319467908960042,\n",
              " -0.20357931870394771,\n",
              " 0.44177568375991405,\n",
              " 0.2710972153863551,\n",
              " -0.7486107975041677,\n",
              " 0.27366629591022773,\n",
              " 0.040345014329175075,\n",
              " -0.11503487342084784,\n",
              " 0.5402683210959086,\n",
              " -1.4809799705377455,\n",
              " -0.21774596908119667,\n",
              " 0.11296720786817298,\n",
              " 0.2990527460122018,\n",
              " 0.35949994988402717,\n",
              " 0.8846339858827049,\n",
              " 0.5312910739316075,\n",
              " -1.750209547697908,\n",
              " 0.28156873851756165,\n",
              " 0.5312451995413122,\n",
              " -0.04470510124368866,\n",
              " 2.2579342265039912,\n",
              " -0.5782980687512042,\n",
              " 0.635220265945267,\n",
              " 0.3944886730168452,\n",
              " 1.1477243300545807,\n",
              " -0.6845128657248964,\n",
              " -1.2463641139272637,\n",
              " -0.4559314498399386,\n",
              " 0.027249690873876603,\n",
              " -0.8267662302714821,\n",
              " 0.7803818209345095,\n",
              " 1.835107166979045,\n",
              " -1.3090297708376086,\n",
              " -0.46077912212496946,\n",
              " 1.1596828390257088,\n",
              " -2.2325426111867377,\n",
              " -0.1998412052214321,\n",
              " 0.5671898948718587,\n",
              " -1.0497562821788897,\n",
              " 0.2453936488625892,\n",
              " 2.6896120503279386,\n",
              " 0.04135042721243394,\n",
              " 1.573117803345393,\n",
              " -0.4460498563334678,\n",
              " -0.5931091505085125,\n",
              " 0.10335602951861977,\n",
              " 0.7201403977954616,\n",
              " -0.5755568562376128,\n",
              " -1.3206233484062508,\n",
              " 0.06738191495439681,\n",
              " 0.028530042465783986,\n",
              " 0.8646240948489777,\n",
              " -0.35088378635188633,\n",
              " 2.0317953326186577,\n",
              " 0.09737995782093972,\n",
              " 0.04339899697099287,\n",
              " -0.6690316140997045,\n",
              " -0.37365904006081035,\n",
              " 0.7227128111216833,\n",
              " -0.7858195570328194,\n",
              " -0.9536852075986667,\n",
              " 0.14466284082073083,\n",
              " 0.6242991612974345,\n",
              " 0.5831903485440307,\n",
              " -1.029314425026609,\n",
              " -0.5266118106707113,\n",
              " 0.30186830120755437,\n",
              " 0.49502531128029637,\n",
              " -1.0101685650636456,\n",
              " 2.157929841542483,\n",
              " 0.33568062217888556,\n",
              " 0.38316226737466064,\n",
              " -0.2702564539926545,\n",
              " 1.8844589670060572,\n",
              " 1.122127737998427,\n",
              " -0.6914810743395978,\n",
              " -0.35617586101462395,\n",
              " 1.392435250473011,\n",
              " 1.0384235082141562,\n",
              " -0.43919995880131746,\n",
              " 0.11900287818300977,\n",
              " -1.1477900033424273,\n",
              " 1.5268675220042884,\n",
              " 1.0307816258603195,\n",
              " -0.7256445847752935,\n",
              " -0.20446756470268382,\n",
              " 0.2424837105375871,\n",
              " -0.46272805728056815,\n",
              " -0.27438960511569876,\n",
              " 0.8255174964868129,\n",
              " -0.32832347556790586,\n",
              " -0.8047244652526225,\n",
              " -1.8975178763415805,\n",
              " -1.043893542107416,\n",
              " 0.6215185321300284,\n",
              " 0.050477422085883614,\n",
              " -0.8006534281147186,\n",
              " 0.8208867267087376,\n",
              " -0.646690399889707,\n",
              " 1.0146037349111148,\n",
              " 0.3458440694581085,\n",
              " 0.25938806269362175,\n",
              " 0.34881794305333946,\n",
              " 1.9007203014084857,\n",
              " 1.4580216822483594,\n",
              " -1.1010769416191484,\n",
              " 0.48396460633924065,\n",
              " -0.8620683559285559,\n",
              " -1.1111370808833665,\n",
              " -0.22716296800999772,\n",
              " 0.043245642949724626,\n",
              " -1.090761777567797,\n",
              " -2.02026688356726,\n",
              " 0.5120732747452219,\n",
              " 0.9507196688774703,\n",
              " -2.059045592999979,\n",
              " -0.39590361044092187,\n",
              " 0.05123227266500733,\n",
              " -0.9923160778491765,\n",
              " 1.16083980287336,\n",
              " 0.4891319196186199,\n",
              " -0.4060635305390198,\n",
              " 0.08653087442334469,\n",
              " -1.0109485260118685,\n",
              " -0.36521675020420685,\n",
              " -1.4185351284562489,\n",
              " 1.05150581244885,\n",
              " -2.4478372496681136,\n",
              " 1.0783701078811865,\n",
              " -1.3579589266668068,\n",
              " 0.2895785360039318,\n",
              " 1.953188682990177,\n",
              " 1.3930583016606937,\n",
              " 1.4875390149444003,\n",
              " -0.8194623002855265,\n",
              " -2.101219274369832,\n",
              " 0.6160132363690541,\n",
              " 0.3273291725794887,\n",
              " 0.03291549904800823,\n",
              " -0.713789374125793,\n",
              " 1.958167557084519,\n",
              " 1.5752095635121133,\n",
              " -0.678532752258295,\n",
              " -0.05760426866602336,\n",
              " 1.743943745129652,\n",
              " 1.615588111605621,\n",
              " 1.516338486494783,\n",
              " 0.6703361772773315,\n",
              " 0.025698639670598045,\n",
              " -0.8986169524221697,\n",
              " 0.6141561828144725,\n",
              " -0.33714256787787367,\n",
              " 1.4470900025482274,\n",
              " -1.0351381231283567,\n",
              " -1.0944520444753112,\n",
              " 1.476256642750221,\n",
              " 1.2410788080290183,\n",
              " -1.8050958674954736,\n",
              " 0.3283993875957449,\n",
              " -0.1094669296431455,\n",
              " 0.7744087976660289,\n",
              " 1.229770811290647,\n",
              " -0.15802995674499104,\n",
              " -1.1656692675210023,\n",
              " -1.5235380802283862,\n",
              " -0.7196764000422007,\n",
              " -1.89620608241246,\n",
              " -1.0136762042093446,\n",
              " 0.6016198681217595,\n",
              " 2.8596663951535866,\n",
              " -0.36147597752196564,\n",
              " 1.7817333766661678,\n",
              " -0.44268694837004047,\n",
              " -0.10518155429890537,\n",
              " 0.18833175481758352,\n",
              " 0.1344689825064891,\n",
              " -1.7553554555084014,\n",
              " -0.04628131068006171,\n",
              " -0.5555585540132062,\n",
              " 0.6186001872077052,\n",
              " -0.9552766399095695,\n",
              " 0.38054288495522204,\n",
              " 0.12369153876956338,\n",
              " 0.26653728076456423,\n",
              " -1.0469931683055662,\n",
              " 0.9879683237029497,\n",
              " 0.24672882913098837,\n",
              " 1.73785048222997,\n",
              " 2.079137403493711,\n",
              " -0.20164161386456692,\n",
              " 1.5729443586523761,\n",
              " 1.3065245106974817,\n",
              " 0.15391877708388604,\n",
              " -1.991933455154586,\n",
              " -0.7832621100600697,\n",
              " -0.29390291962134507,\n",
              " -1.1931187967587666,\n",
              " 2.232491920791487,\n",
              " -0.43534108514156283,\n",
              " 2.0306640986270397,\n",
              " -0.3836650825753771,\n",
              " 0.9344273175441424,\n",
              " -0.20611290533218546,\n",
              " 0.07573631210744201,\n",
              " -0.2742128130198334,\n",
              " 1.0518042512348353,\n",
              " 0.2097338222578382,\n",
              " 0.5181352771730925,\n",
              " 1.2499531818961016,\n",
              " -1.9409624810163146,\n",
              " -0.5250516060933302,\n",
              " -1.1001609509543395,\n",
              " 1.8539684249510933,\n",
              " -0.014872077421318545,\n",
              " 0.9407834103818214,\n",
              " 0.7313751339674799,\n",
              " -0.6983166096788272,\n",
              " -1.078499062309666,\n",
              " 1.3788072793104658,\n",
              " 1.74039060998762,\n",
              " -1.1394734094921937,\n",
              " -0.7287405621619073,\n",
              " 1.906734365693572,\n",
              " -0.9671526942528912,\n",
              " 0.1943855335178476,\n",
              " 0.08369853605512177,\n",
              " -0.11843486706265952,\n",
              " 0.19021885922085605,\n",
              " 1.0173239136780334,\n",
              " -0.059761776419942125,\n",
              " 1.0768434138916803,\n",
              " -1.742245977090785,\n",
              " -0.14287381467437377,\n",
              " 0.7887973715957904,\n",
              " -0.71522216042308,\n",
              " -0.40450006666377053,\n",
              " 0.39577418155254923,\n",
              " -1.5620912621287524,\n",
              " -0.7600154949796959,\n",
              " 0.5504669957612354,\n",
              " -0.9715650829457404,\n",
              " -0.7358438519423103,\n",
              " -1.3391939989250805,\n",
              " 0.13055805011025223,\n",
              " 0.18034950198520597,\n",
              " -1.587874427219796,\n",
              " -0.009144236997897282,\n",
              " 2.109617397658865,\n",
              " -0.8179418991471744,\n",
              " -0.8533464242624935,\n",
              " 1.6231394424967276,\n",
              " 1.1731110560707163,\n",
              " 2.2055381419111204,\n",
              " 1.0080203530972165,\n",
              " 0.8678837315684362,\n",
              " -0.15387300458140854,\n",
              " -0.5964482678473142,\n",
              " -1.2512423831290906,\n",
              " -1.3966551919556884,\n",
              " -1.3444085779040635,\n",
              " 1.918066015362548,\n",
              " 1.0004490940434345,\n",
              " 0.08326606220768627,\n",
              " -0.7510944351806857,\n",
              " 0.20273454053289527,\n",
              " 0.6507229245968343,\n",
              " -0.9064253250420312,\n",
              " 0.055596082954440455,\n",
              " -0.9085918711665725,\n",
              " 1.3622918768486314,\n",
              " -0.5264921902165512,\n",
              " -0.15878905333756874,\n",
              " 0.30558386268697996,\n",
              " 0.06148036910322185,\n",
              " 1.1174037011628208,\n",
              " -0.6614073957749507,\n",
              " -0.5462321671845819,\n",
              " 1.27192158847077,\n",
              " -1.3533732370708214,\n",
              " 0.35060479839281233,\n",
              " -2.4496998403811117,\n",
              " -0.9110331685715535,\n",
              " -0.17942978498517914,\n",
              " 0.5182779795274043,\n",
              " -0.8331381692118263,\n",
              " 0.044644875808767144,\n",
              " -0.428083358327155,\n",
              " -1.9568601490236512,\n",
              " 0.9266494076723562,\n",
              " 0.7605496545279905,\n",
              " -0.4746800801017311,\n",
              " -0.7487931416988324,\n",
              " -0.7812977531949366,\n",
              " -0.3809915246236244,\n",
              " 0.7429744249580562,\n",
              " -0.965938717427877,\n",
              " -0.9049096579776756,\n",
              " 0.7354385487257387,\n",
              " 1.1666252152169723,\n",
              " -0.21593746161203142,\n",
              " -0.5914168304378818,\n",
              " 0.7849803761058523,\n",
              " -0.09083772258614078,\n",
              " 0.19152976699543647,\n",
              " 2.565537107378648,\n",
              " 0.7474284630510472,\n",
              " -0.3473007050911652,\n",
              " 0.4851824258159357,\n",
              " 0.7614297362936089,\n",
              " 0.1299339601457267,\n",
              " -0.26019184562718584,\n",
              " 0.4029297445222532,\n",
              " -1.2148297807924393,\n",
              " 1.7841167805541536,\n",
              " -0.852447496661363,\n",
              " 1.1538294668342466,\n",
              " 0.013635530300940626,\n",
              " 0.9094453762027831,\n",
              " -0.7783546761479777,\n",
              " -0.5115051782219592,\n",
              " 0.3971389245651492,\n",
              " 0.17334136854941626,\n",
              " -0.8060806716660475,\n",
              " 1.3136571453034096,\n",
              " -1.2897214259458247,\n",
              " 2.4879057501198334,\n",
              " 0.8134761735245407,\n",
              " -0.9420000760340741,\n",
              " 0.8659167120242292,\n",
              " -0.617480376270238,\n",
              " -0.5415639943607561,\n",
              " -1.5331596501006852,\n",
              " 1.026459550555951,\n",
              " -0.09205473362816607,\n",
              " -1.0768449423991115,\n",
              " 0.8874209899693404,\n",
              " 0.3784309709018792,\n",
              " -0.9859716467757411,\n",
              " -0.9727911358022753,\n",
              " -1.9125151631264832,\n",
              " -1.4767606079092417,\n",
              " -0.025691049511636945,\n",
              " -0.39050283086103504,\n",
              " 0.6192880473807181,\n",
              " -0.6444859458514633,\n",
              " 0.7466349356265559,\n",
              " -1.2882770580393352,\n",
              " 0.024677338969325502,\n",
              " 0.13313963452232738,\n",
              " -0.5599948872309307,\n",
              " -0.5748615305676719,\n",
              " -0.1316634899037439,\n",
              " 1.5093564897192262,\n",
              " 0.46466426962609475,\n",
              " -0.07098264626298201,\n",
              " 0.050203021770624766,\n",
              " -0.0770551775401295,\n",
              " -1.723227311315135,\n",
              " 1.2187279234672699,\n",
              " -1.8131609106088975,\n",
              " -1.1266515368067,\n",
              " 1.8558095453794654,\n",
              " 0.7344049627249823,\n",
              " -2.204254479217442,\n",
              " ...]"
            ]
          },
          "metadata": {},
          "execution_count": 47
        }
      ]
    },
    {
      "cell_type": "code",
      "metadata": {
        "cell_id": "00068-955e9a9e-45b5-439e-8737-478a9e1540e4",
        "deepnote_cell_type": "code",
        "id": "K-fFhKc5HEqa",
        "outputId": "f5633c76-114e-4097-c579-bc2174f60001",
        "colab": {
          "base_uri": "https://localhost:8080/",
          "height": 0
        }
      },
      "source": [
        "# and print our statistics\n",
        "print_statistics(gaussValues, calc_mode=False)"
      ],
      "execution_count": 48,
      "outputs": [
        {
          "output_type": "stream",
          "name": "stdout",
          "text": [
            "Count: 20000\n",
            "Mean: -0.01\n",
            "Median: 0.0036879466906248612\n",
            "Max: 4.291088338639748\n",
            "Min: -4.52593184929381\n",
            "Range: 8.817020187933558\n",
            "25th Percentile: -0.6838808785947806\n",
            "50th Percentile: 0.003702001124439471\n",
            "75th Percentile: 0.6659626230118323\n",
            "IQR: 1.349843501606613\n"
          ]
        }
      ]
    },
    {
      "cell_type": "markdown",
      "source": [
        "The nature of the function is such that the mean should fall around 0. It looks like we accompished that. Also note how the 25th and 50th percentile are roughly the same number. This is an indication that the distribution is not significantly skewed. Let's take a look at it's histogram:"
      ],
      "metadata": {
        "cell_id": "00069-e84730e4-235b-4aca-98ba-9e8ae98e3e86",
        "deepnote_cell_type": "markdown",
        "id": "vWE26GXaHEqa"
      }
    },
    {
      "cell_type": "code",
      "metadata": {
        "cell_id": "00070-461f732c-efbb-40f1-985d-d36710eb2234",
        "deepnote_cell_type": "code",
        "id": "4wRn4BpgHEqb",
        "outputId": "dcbf79e4-5cb3-4504-cec6-133b2c76757b",
        "colab": {
          "base_uri": "https://localhost:8080/",
          "height": 337
        }
      },
      "source": [
        "sns.distplot(gaussValues, kde=False)"
      ],
      "execution_count": 49,
      "outputs": [
        {
          "output_type": "stream",
          "name": "stderr",
          "text": [
            "/usr/local/lib/python3.7/dist-packages/seaborn/distributions.py:2619: FutureWarning: `distplot` is a deprecated function and will be removed in a future version. Please adapt your code to use either `displot` (a figure-level function with similar flexibility) or `histplot` (an axes-level function for histograms).\n",
            "  warnings.warn(msg, FutureWarning)\n"
          ]
        },
        {
          "output_type": "execute_result",
          "data": {
            "text/plain": [
              "<matplotlib.axes._subplots.AxesSubplot at 0x7fdb3cf32290>"
            ]
          },
          "metadata": {},
          "execution_count": 49
        },
        {
          "output_type": "display_data",
          "data": {
            "image/png": "[encoded data removed]",
            "text/plain": [
              "<Figure size 432x288 with 1 Axes>"
            ]
          },
          "metadata": {
            "needs_background": "light"
          }
        }
      ]
    },
    {
      "cell_type": "markdown",
      "source": [
        "Get used to this image because you will see it _everywhere_ in statistics, data science, and life. Even though there are many many distributions out there (and even more variations on each of those), most people will be happy to apply the \"bell curve\" to almost anything. Chance are, though, they're right.\n",
        "\n",
        "\n",
        "## Variability\n",
        "Let's talk about one more descriptive statistic that describes to us how much the values vary. In other words, if we're looking at test scores, did everyone do about the same? Or were there some big winners and losers?\n",
        "\n",
        "Mathemeticians call this the _variability_. There are three major measures of variability: range, inter-quartile range (IQR), and variation/standard devaition.\n",
        "\n",
        "### 1. Range\n",
        "Range is a very simple measure: how far apart could my values possibly be? In our generated datasets above, the answer was pretty obvious. We generated a random number from 0 to 1000, so the range was $1000-0 = 1000$. The values of x could never go outside of this range.\n",
        "\n",
        "But what about our gaussian values? The tandard normal distribution has asymptotic end points instead of absolute end points, so it's not so clean. We can see from the graph above that it doesn't look like there are any values above and below 4, so we'd expect a range of something around 8:"
      ],
      "metadata": {
        "cell_id": "00071-c3ad3eb2-f1cd-4cd8-8bf0-6e1cc9d02723",
        "deepnote_cell_type": "markdown",
        "id": "C9dRXbIMHEqb"
      }
    },
    {
      "cell_type": "code",
      "metadata": {
        "cell_id": "00072-8adc85bd-4265-4ec5-b42c-24a0727b6005",
        "deepnote_cell_type": "code",
        "id": "wgsoW8IoHEqc",
        "outputId": "4db1e1b7-3655-4763-cf61-0e2dcb311e5f",
        "colab": {
          "base_uri": "https://localhost:8080/",
          "height": 0
        }
      },
      "source": [
        "print(\"Max: {}\\nMin: {}\\nRange: {}\".format(\n",
        "    max(gaussValues),\n",
        "    min(gaussValues),\n",
        "    max(gaussValues) - min(gaussValues)))"
      ],
      "execution_count": 50,
      "outputs": [
        {
          "output_type": "stream",
          "name": "stdout",
          "text": [
            "Max: 4.291088338639748\n",
            "Min: -4.52593184929381\n",
            "Range: 8.817020187933558\n"
          ]
        }
      ]
    },
    {
      "cell_type": "markdown",
      "source": [
        "Exactly what we expected. In practice, the range is a good descriptive statistic, but you can't do many other interesting things with it. It basically let's you say \"our results were between X and Y\", but nothing too much more profound. \n",
        "\n",
        "Another good way to describe the range is called\n",
        "\n",
        "### 2. Inter-Quartile Range\n",
        "or IQR for short. This is a similar technique where instead of taking the difference between the max and min values, we take the difference between the 75th and 25th percentile. It gives a good sense of the range because it excludes outliers and tells you where the middle 50% of the values are grouped. Of course, this is most useful when we're looking at a unimodal distribution like our normal distribution, because for a distribution that's bimodal (i.e. has many values at either end of the range), it will be misleading.\n",
        "\n",
        "Here's how we caluclated it:"
      ],
      "metadata": {
        "cell_id": "00073-00ee1224-27f9-40c4-a832-1d17c0a1af2f",
        "deepnote_cell_type": "markdown",
        "id": "yuKlZvkFHEqc"
      }
    },
    {
      "cell_type": "code",
      "metadata": {
        "cell_id": "00074-3060ea10-6be7-4df1-9edb-30de8afa558c",
        "deepnote_cell_type": "code",
        "id": "NYkEqKkXHEqc",
        "outputId": "a73aba09-5a7a-4e66-fd15-fc5a0ed76eaa",
        "colab": {
          "base_uri": "https://localhost:8080/",
          "height": 0
        }
      },
      "source": [
        "print(\"75th: {}\\n25th: {}\\nIQR: {}\".format(\n",
        "    pct_value(gaussValues, .75),\n",
        "    pct_value(gaussValues, .25),\n",
        "    pct_value(gaussValues, .75) - pct_value(gaussValues, .25)\n",
        "))"
      ],
      "execution_count": 51,
      "outputs": [
        {
          "output_type": "stream",
          "name": "stdout",
          "text": [
            "75th: 0.6659626230118323\n",
            "25th: -0.6838808785947806\n",
            "IQR: 1.349843501606613\n"
          ]
        }
      ]
    },
    {
      "cell_type": "markdown",
      "source": [
        "So again, this tells us that 50% of our values are between -0.68 and 0.68 and all within the same 1.35 values. Comparing this to the range (which is not at all influenced by percentages of values), this gives you the sense that the're bunched around the mean.\n",
        "\n",
        "If we want a little more predictive power, though, it's time to talk about\n",
        "\n",
        "### 3. Variance\n",
        "\n",
        "Variance is a measure of how much values typically deviate (i.e. how far away they are) from the mean.\n",
        "\n",
        "If we want to calculate the variance, then we first see how far a value is from the mean ($\\mu$), square it (which gets rid of the negative), sum them up, and divide by $n$. Essentially, it's an average where the value is the deviation squared instead of the value itself. Here's the formula for variance, denoted by $\\sigma^2$:\n",
        "\n",
        "$$ \\sigma^2 = \\frac{(x_1 - \\mu)^2+(x_2 - \\mu)^2+ \\cdots + (x_n - \\mu)^2}{n} $$\n",
        "\n",
        "Let's code that up:"
      ],
      "metadata": {
        "cell_id": "00075-dd5afdfb-fc69-46dc-b7a3-de9de34f771c",
        "deepnote_cell_type": "markdown",
        "id": "NwcJVZqEHEqd"
      }
    },
    {
      "cell_type": "code",
      "metadata": {
        "cell_id": "00076-c54766fe-b6ac-4737-8c90-1a95c7017039",
        "deepnote_cell_type": "code",
        "id": "3yYESbnfHEqd",
        "outputId": "e0597e84-1b5d-4d79-b7c8-7ba29e2f13d6",
        "colab": {
          "base_uri": "https://localhost:8080/",
          "height": 0
        }
      },
      "source": [
        "def variance(vals):\n",
        "    n = len(vals)\n",
        "    m = arithmetic_mean(vals)\n",
        "    variance = 0\n",
        "    for x in vals:\n",
        "        variance += (x - m)**2\n",
        "    return variance/n\n",
        "\n",
        "variance(gaussValues)"
      ],
      "execution_count": 52,
      "outputs": [
        {
          "output_type": "execute_result",
          "data": {
            "text/plain": [
              "1.006504331810301"
            ]
          },
          "metadata": {},
          "execution_count": 52
        }
      ]
    },
    {
      "cell_type": "markdown",
      "source": [
        "The variance four our generated Gaussian numbers is roughly 1, which is another condition of a standard normal distribution (mean is 0, variance is 1). So no surprise. But the variance is a bit of a tricky number to intuit because it is the average of the _squared_ differences between the mean. Take our skewed for example:"
      ],
      "metadata": {
        "cell_id": "00077-c769054c-9a6a-44b4-8cc7-55ead0df01a5",
        "deepnote_cell_type": "markdown",
        "id": "BeeptXI4HEqe"
      }
    },
    {
      "cell_type": "code",
      "metadata": {
        "cell_id": "00078-dd70ced5-9862-4acd-ad78-9606a2d7d44f",
        "deepnote_cell_type": "code",
        "id": "H0TfSa61HEqe",
        "outputId": "731673af-9a5a-40fc-9a1c-05a4b0b1e1ef",
        "colab": {
          "base_uri": "https://localhost:8080/",
          "height": 0
        }
      },
      "source": [
        "variance(skewed)"
      ],
      "execution_count": 53,
      "outputs": [
        {
          "output_type": "execute_result",
          "data": {
            "text/plain": [
              "904.1215759678595"
            ]
          },
          "metadata": {},
          "execution_count": 53
        }
      ]
    },
    {
      "cell_type": "markdown",
      "source": [
        "How do you interpret this? The max value is 100, so is a variance of 934.8 a lot or a little? Also, let's say the skewed distribution was a measure of price in dollars. Therefore, the units of variance would be 934.8 dollars squared. Doesn't make a whole lot of sense.\n",
        "\n",
        "For this reason, most people will take the square root of the variance to give them a value called the **standard deviation**: $\\sigma = \\sqrt{\\sigma^2}$."
      ],
      "metadata": {
        "cell_id": "00079-a83ddfdf-15ad-4912-ae20-18197abf946c",
        "deepnote_cell_type": "markdown",
        "id": "0nyqqniKHEqf"
      }
    },
    {
      "cell_type": "code",
      "metadata": {
        "cell_id": "00080-cd76146a-b46d-4d06-a9e7-dcb1a8b48229",
        "deepnote_cell_type": "code",
        "id": "ijLKa_5nHEqg",
        "outputId": "22e675b9-713b-4c63-8b07-c768fc12c256",
        "colab": {
          "base_uri": "https://localhost:8080/",
          "height": 0
        }
      },
      "source": [
        "def stddev(vals):\n",
        "    return sqrt(variance(vals))\n",
        "stddev(skewed)"
      ],
      "execution_count": 54,
      "outputs": [
        {
          "output_type": "execute_result",
          "data": {
            "text/plain": [
              "30.068614467046192"
            ]
          },
          "metadata": {},
          "execution_count": 54
        }
      ]
    },
    {
      "cell_type": "markdown",
      "source": [
        "This is much more approchable. It's saying the standard devaition from our mean is \\$30. That is an easy number to digest. This is a very important number to be able to grok. I'll repeat it to drive the point home:\n",
        "\n",
        "The _standard deviation_ is a measure of how \"spread out\" a distribution is. The higher the value, the further a typical observation from our population is from the mean of that population.\n",
        "\n",
        "The standard devation, range, and IQR all give measures of this dispersion of a distribution. However, for reasons we will see later, the standard devaition is the work horse of them all. By knowing the standard deviation of a population (or sample, as the case often is), we can begin to judge how likely a value is to get, or how sure we are of our own guesses. Statistics is a glorified guessing game, and stddev is one of the most important tools."
      ],
      "metadata": {
        "cell_id": "00081-b2864a74-64b1-4ab3-a5ff-f8ffb7f7f74b",
        "deepnote_cell_type": "markdown",
        "id": "0P-cfX-wHEqh"
      }
    },
    {
      "cell_type": "markdown",
      "source": [
        "---\n",
        "## Outlook\n",
        "Some of the topics in descriptive statistics to look forward to are\n",
        "\n",
        "* Paired data\n",
        "    * **Scatter plots**\n",
        "    * Explanatory vs response variables\n",
        "    * **Covariance and correlation**\n",
        "* Random Variables and Probability\n",
        "* **Distributions**\n",
        "    * Discrete vs Continuous\n",
        "    * Descriptive statistics of distributions\n",
        "    * Major types of distributions\n",
        "        * Normal\n",
        "        * Geometric\n",
        "        * Binomial\n",
        "        * Poisson\n",
        "        * Chi-squared\n",
        "        * Weibull\n",
        "* **Inferential statistics**\n",
        "    * Sampling distributions and statistics\n",
        "    * Central limit theorem\n",
        "    * Hypothesis testing\n"
      ],
      "metadata": {
        "cell_id": "00082-900b9756-2b32-4ebb-8001-f1f46384e827",
        "deepnote_cell_type": "markdown",
        "id": "89s08Jg_HEqh"
      }
    }
  ],
  "nbformat": 4,
  "nbformat_minor": 0,
  "metadata": {
    "kernelspec": {
      "display_name": "Python 3",
      "language": "python",
      "name": "python3"
    },
    "language_info": {
      "codemirror_mode": {
        "name": "ipython",
        "version": 3
      },
      "file_extension": ".py",
      "mimetype": "text/x-python",
      "name": "python",
      "nbconvert_exporter": "python",
      "pygments_lexer": "ipython3",
      "version": "3.6.7"
    },
    "toc": {
      "base_numbering": 1,
      "nav_menu": {
        "height": "30px",
        "width": "252px"
      },
      "number_sections": false,
      "sideBar": true,
      "skip_h1_title": false,
      "title_cell": "Table of Contents",
      "title_sidebar": "Contents",
      "toc_cell": true,
      "toc_position": {},
      "toc_section_display": false,
      "toc_window_display": true
    },
    "deepnote_notebook_id": "15bb16a8-3ab6-4efc-af4a-771c027e919a",
    "deepnote": {},
    "deepnote_execution_queue": [],
    "colab": {
      "name": "DEMO_Descriptive-Statistics.ipynb",
      "provenance": [],
      "collapsed_sections": []
    }
  }
}