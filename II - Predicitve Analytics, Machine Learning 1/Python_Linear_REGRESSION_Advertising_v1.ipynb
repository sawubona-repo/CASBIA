{
  "cells": [
    {
      "cell_type": "markdown",
      "metadata": {
        "_uuid": "d98e260fd46b2018f8235d76d6b46d6e149ded86",
        "id": "YsCS_pjI5c_-"
      },
      "source": [
        "# **Jupyter Notebook to demonstrate (simple) Linear Regression for Advertising/Sales Predicition**\n",
        "\n",
        "Linear Regression is a simple yet powerful and mostly used algorithm in data science. There are a plethora of real-world applications of Linear Regression.\n",
        "\n",
        "The purpose of this tutorial/notebook is to get a clear idea on how a linear regression can be used to solve a marketing problem, such as selecting the right channels to advertise a product.\n",
        "\n",
        "Problem Statement and Example Data: Build a model which predicts sales based on the money spent on different platforms for marketing. Using this notebook, we will build a linear regression model to predict Sales using an appropriate predictor variable, based on the advertising dataset.\n",
        "\n",
        "\n",
        "### Useful resources:\n",
        "* [Kaggle](https://www.kaggle.com) Multiple Lineare Regression Notebooks and Tutorials\n",
        "* [Analytics Vidhya Blog](https://www.analyticsvidhya.com/blog/2021/10/everything-you-need-to-know-about-linear-regression/) \"Everything you need to Know about Linear Regression\"\n",
        "* [CodeSource](https://codesource.io/building-a-regression-model-to-predict-sales-revenue-using-sci-kit-learn/) \"Building a Regression Model to Predict Sales Revenue using Sci-Kit Learn\"\n",
        "\n",
        "---\n",
        "Author: \n",
        "*   dr.daniel benninger  [> Linkedin](https://www.linkedin.com/in/danielbenninger/)\n",
        "\n",
        "History: \n",
        "*  v1, June 2021, dbe --- adapted version for CAS DA4"
      ]
    },
    {
      "cell_type": "markdown",
      "source": [
        "## Setup Environment  - Load necessary Libraries and Functions\n",
        "\n",
        "First, we need to import some libraries:  \n",
        "* pandas: data manipulation and analysis\n",
        "* numpy : library for scientific computing in Python, used for working with arrays and matrices\n",
        "* matplotlib : plotting library for data visualization\n",
        "* rcParams: To change the matplotlib properties like figure size\n",
        "* seaborn: data visualization library based on matplotlib\n",
        "\n",
        "* sklearn: xxx\n",
        "* statsmodels: Using statsmodels module classes and functions for linear regression \n",
        "   \n",
        "**Note:** Make sure they are installed already before importing them"
      ],
      "metadata": {
        "id": "U88hD_et9NT_"
      }
    },
    {
      "cell_type": "code",
      "execution_count": null,
      "metadata": {
        "_uuid": "d68008018678c65564ddda5994cb05129f3ca72b",
        "id": "_5VY8jc95dAP"
      },
      "outputs": [],
      "source": [
        "# Supress Warnings\n",
        "import warnings\n",
        "warnings.filterwarnings('ignore')\n",
        "\n",
        "# Import the numpy and pandas package\n",
        "import numpy as np\n",
        "import pandas as pd\n",
        "\n",
        "# Import the data visualization package\n",
        "import matplotlib.pyplot as plt \n",
        "import seaborn as sns\n",
        "\n",
        "from pylab import rcParams\n",
        "\n",
        "# configure plot area\n",
        "rcParams['figure.figsize'] = 12, 8"
      ]
    },
    {
      "cell_type": "markdown",
      "metadata": {
        "_uuid": "fab1024005bc13658e3ef2f8a2e46971881bc3ef",
        "id": "zuXhbg-f5dAO"
      },
      "source": [
        "## Reading and Understanding the Data"
      ]
    },
    {
      "cell_type": "code",
      "source": [
        "# Input data files - in colab environment  - are available in the \"/content/sample_data\" directory.\n",
        "# For example: check the current files in the input directory\n",
        "\n",
        "from subprocess import check_output\n",
        "print(check_output([\"ls\", \"/content/sample_data\"]).decode(\"utf8\"))"
      ],
      "metadata": {
        "colab": {
          "base_uri": "https://localhost:8080/"
        },
        "id": "KIxRg7RM-bD3",
        "outputId": "786ab5d8-7713-4baa-e61c-175d9f455fbd"
      },
      "execution_count": null,
      "outputs": [
        {
          "output_type": "stream",
          "name": "stdout",
          "text": [
            "anscombe.json\n",
            "california_housing_test.csv\n",
            "california_housing_train.csv\n",
            "DATA_Werbung.csv\n",
            "mnist_test.csv\n",
            "mnist_train_small.csv\n",
            "README.md\n",
            "\n"
          ]
        }
      ]
    },
    {
      "cell_type": "code",
      "execution_count": null,
      "metadata": {
        "_uuid": "1365d38deb407ea9c0f4e93830c5f9d4d65ebd9d",
        "colab": {
          "base_uri": "https://localhost:8080/",
          "height": 206
        },
        "id": "kyuVCdBo5dAS",
        "outputId": "b9fe2628-6baa-4194-9e73-94035c23795b"
      },
      "outputs": [
        {
          "output_type": "execute_result",
          "data": {
            "text/html": [
              "\n",
              "  <div id=\"df-c89ae552-a740-4ba6-a670-8b777b8b07eb\">\n",
              "    <div class=\"colab-df-container\">\n",
              "      <div>\n",
              "<style scoped>\n",
              "    .dataframe tbody tr th:only-of-type {\n",
              "        vertical-align: middle;\n",
              "    }\n",
              "\n",
              "    .dataframe tbody tr th {\n",
              "        vertical-align: top;\n",
              "    }\n",
              "\n",
              "    .dataframe thead th {\n",
              "        text-align: right;\n",
              "    }\n",
              "</style>\n",
              "<table border=\"1\" class=\"dataframe\">\n",
              "  <thead>\n",
              "    <tr style=\"text-align: right;\">\n",
              "      <th></th>\n",
              "      <th>Unnamed: 0</th>\n",
              "      <th>TV</th>\n",
              "      <th>Radio</th>\n",
              "      <th>Newspaper</th>\n",
              "      <th>Sales</th>\n",
              "    </tr>\n",
              "  </thead>\n",
              "  <tbody>\n",
              "    <tr>\n",
              "      <th>0</th>\n",
              "      <td>1</td>\n",
              "      <td>230.1</td>\n",
              "      <td>37.8</td>\n",
              "      <td>69.2</td>\n",
              "      <td>22.1</td>\n",
              "    </tr>\n",
              "    <tr>\n",
              "      <th>1</th>\n",
              "      <td>2</td>\n",
              "      <td>44.5</td>\n",
              "      <td>39.3</td>\n",
              "      <td>45.1</td>\n",
              "      <td>10.4</td>\n",
              "    </tr>\n",
              "    <tr>\n",
              "      <th>2</th>\n",
              "      <td>3</td>\n",
              "      <td>17.2</td>\n",
              "      <td>45.9</td>\n",
              "      <td>69.3</td>\n",
              "      <td>9.3</td>\n",
              "    </tr>\n",
              "    <tr>\n",
              "      <th>3</th>\n",
              "      <td>4</td>\n",
              "      <td>151.5</td>\n",
              "      <td>41.3</td>\n",
              "      <td>58.5</td>\n",
              "      <td>18.5</td>\n",
              "    </tr>\n",
              "    <tr>\n",
              "      <th>4</th>\n",
              "      <td>5</td>\n",
              "      <td>180.8</td>\n",
              "      <td>10.8</td>\n",
              "      <td>58.4</td>\n",
              "      <td>12.9</td>\n",
              "    </tr>\n",
              "  </tbody>\n",
              "</table>\n",
              "</div>\n",
              "      <button class=\"colab-df-convert\" onclick=\"convertToInteractive('df-c89ae552-a740-4ba6-a670-8b777b8b07eb')\"\n",
              "              title=\"Convert this dataframe to an interactive table.\"\n",
              "              style=\"display:none;\">\n",
              "        \n",
              "  <svg xmlns=\"http://www.w3.org/2000/svg\" height=\"24px\"viewBox=\"0 0 24 24\"\n",
              "       width=\"24px\">\n",
              "    <path d=\"M0 0h24v24H0V0z\" fill=\"none\"/>\n",
              "    <path d=\"M18.56 5.44l.94 2.06.94-2.06 2.06-.94-2.06-.94-.94-2.06-.94 2.06-2.06.94zm-11 1L8.5 8.5l.94-2.06 2.06-.94-2.06-.94L8.5 2.5l-.94 2.06-2.06.94zm10 10l.94 2.06.94-2.06 2.06-.94-2.06-.94-.94-2.06-.94 2.06-2.06.94z\"/><path d=\"M17.41 7.96l-1.37-1.37c-.4-.4-.92-.59-1.43-.59-.52 0-1.04.2-1.43.59L10.3 9.45l-7.72 7.72c-.78.78-.78 2.05 0 2.83L4 21.41c.39.39.9.59 1.41.59.51 0 1.02-.2 1.41-.59l7.78-7.78 2.81-2.81c.8-.78.8-2.07 0-2.86zM5.41 20L4 18.59l7.72-7.72 1.47 1.35L5.41 20z\"/>\n",
              "  </svg>\n",
              "      </button>\n",
              "      \n",
              "  <style>\n",
              "    .colab-df-container {\n",
              "      display:flex;\n",
              "      flex-wrap:wrap;\n",
              "      gap: 12px;\n",
              "    }\n",
              "\n",
              "    .colab-df-convert {\n",
              "      background-color: #E8F0FE;\n",
              "      border: none;\n",
              "      border-radius: 50%;\n",
              "      cursor: pointer;\n",
              "      display: none;\n",
              "      fill: #1967D2;\n",
              "      height: 32px;\n",
              "      padding: 0 0 0 0;\n",
              "      width: 32px;\n",
              "    }\n",
              "\n",
              "    .colab-df-convert:hover {\n",
              "      background-color: #E2EBFA;\n",
              "      box-shadow: 0px 1px 2px rgba(60, 64, 67, 0.3), 0px 1px 3px 1px rgba(60, 64, 67, 0.15);\n",
              "      fill: #174EA6;\n",
              "    }\n",
              "\n",
              "    [theme=dark] .colab-df-convert {\n",
              "      background-color: #3B4455;\n",
              "      fill: #D2E3FC;\n",
              "    }\n",
              "\n",
              "    [theme=dark] .colab-df-convert:hover {\n",
              "      background-color: #434B5C;\n",
              "      box-shadow: 0px 1px 3px 1px rgba(0, 0, 0, 0.15);\n",
              "      filter: drop-shadow(0px 1px 2px rgba(0, 0, 0, 0.3));\n",
              "      fill: #FFFFFF;\n",
              "    }\n",
              "  </style>\n",
              "\n",
              "      <script>\n",
              "        const buttonEl =\n",
              "          document.querySelector('#df-c89ae552-a740-4ba6-a670-8b777b8b07eb button.colab-df-convert');\n",
              "        buttonEl.style.display =\n",
              "          google.colab.kernel.accessAllowed ? 'block' : 'none';\n",
              "\n",
              "        async function convertToInteractive(key) {\n",
              "          const element = document.querySelector('#df-c89ae552-a740-4ba6-a670-8b777b8b07eb');\n",
              "          const dataTable =\n",
              "            await google.colab.kernel.invokeFunction('convertToInteractive',\n",
              "                                                     [key], {});\n",
              "          if (!dataTable) return;\n",
              "\n",
              "          const docLinkHtml = 'Like what you see? Visit the ' +\n",
              "            '<a target=\"_blank\" href=https://colab.research.google.com/notebooks/data_table.ipynb>data table notebook</a>'\n",
              "            + ' to learn more about interactive tables.';\n",
              "          element.innerHTML = '';\n",
              "          dataTable['output_type'] = 'display_data';\n",
              "          await google.colab.output.renderOutput(dataTable, element);\n",
              "          const docLink = document.createElement('div');\n",
              "          docLink.innerHTML = docLinkHtml;\n",
              "          element.appendChild(docLink);\n",
              "        }\n",
              "      </script>\n",
              "    </div>\n",
              "  </div>\n",
              "  "
            ],
            "text/plain": [
              "   Unnamed: 0     TV  Radio  Newspaper  Sales\n",
              "0           1  230.1   37.8       69.2   22.1\n",
              "1           2   44.5   39.3       45.1   10.4\n",
              "2           3   17.2   45.9       69.3    9.3\n",
              "3           4  151.5   41.3       58.5   18.5\n",
              "4           5  180.8   10.8       58.4   12.9"
            ]
          },
          "metadata": {},
          "execution_count": 3
        }
      ],
      "source": [
        "#advertising = pd.DataFrame(pd.read_csv(\"../input/advertising.csv\"))\n",
        "#load Advertising  dataset from local directory\n",
        "advertising = pd.read_csv(\"/content/sample_data/DATA_Werbung.csv\")\n",
        "advertising.head()"
      ]
    },
    {
      "cell_type": "markdown",
      "metadata": {
        "_uuid": "39753c6695c9c1fb90e9d0bbbba0bf8c09b600c2",
        "id": "fm6r_Fjn5dAT"
      },
      "source": [
        "## Data Inspection"
      ]
    },
    {
      "cell_type": "code",
      "execution_count": null,
      "metadata": {
        "_uuid": "4f36948806d235d179b1a5c6b6c990a41afc6e4a",
        "scrolled": true,
        "colab": {
          "base_uri": "https://localhost:8080/"
        },
        "id": "qUZc5Aan5dAV",
        "outputId": "bf34bc83-85d2-4fd2-dd7a-8912cceef0c9"
      },
      "outputs": [
        {
          "output_type": "execute_result",
          "data": {
            "text/plain": [
              "(200, 5)"
            ]
          },
          "metadata": {},
          "execution_count": 4
        }
      ],
      "source": [
        "advertising.shape"
      ]
    },
    {
      "cell_type": "code",
      "execution_count": null,
      "metadata": {
        "_uuid": "9578033b7d507aa4d901b48de36931066cc00241",
        "colab": {
          "base_uri": "https://localhost:8080/"
        },
        "id": "FwbjA_OH5dAX",
        "outputId": "6e7e6c8e-e703-4003-df28-117f0d3c4207"
      },
      "outputs": [
        {
          "output_type": "stream",
          "name": "stdout",
          "text": [
            "<class 'pandas.core.frame.DataFrame'>\n",
            "RangeIndex: 200 entries, 0 to 199\n",
            "Data columns (total 5 columns):\n",
            " #   Column      Non-Null Count  Dtype  \n",
            "---  ------      --------------  -----  \n",
            " 0   Unnamed: 0  200 non-null    int64  \n",
            " 1   TV          200 non-null    float64\n",
            " 2   Radio       200 non-null    float64\n",
            " 3   Newspaper   200 non-null    float64\n",
            " 4   Sales       200 non-null    float64\n",
            "dtypes: float64(4), int64(1)\n",
            "memory usage: 7.9 KB\n"
          ]
        }
      ],
      "source": [
        "advertising.info()"
      ]
    },
    {
      "cell_type": "code",
      "execution_count": null,
      "metadata": {
        "_uuid": "b817b9601c376627448453b03d79bf8f9dd02eac",
        "colab": {
          "base_uri": "https://localhost:8080/",
          "height": 300
        },
        "id": "NZXZSQ4D5dAY",
        "outputId": "d6cdd3d1-503c-4c0b-950b-f2162e45da79"
      },
      "outputs": [
        {
          "output_type": "execute_result",
          "data": {
            "text/html": [
              "\n",
              "  <div id=\"df-e5f62ca2-908f-4ad8-a83c-f82d781d02c5\">\n",
              "    <div class=\"colab-df-container\">\n",
              "      <div>\n",
              "<style scoped>\n",
              "    .dataframe tbody tr th:only-of-type {\n",
              "        vertical-align: middle;\n",
              "    }\n",
              "\n",
              "    .dataframe tbody tr th {\n",
              "        vertical-align: top;\n",
              "    }\n",
              "\n",
              "    .dataframe thead th {\n",
              "        text-align: right;\n",
              "    }\n",
              "</style>\n",
              "<table border=\"1\" class=\"dataframe\">\n",
              "  <thead>\n",
              "    <tr style=\"text-align: right;\">\n",
              "      <th></th>\n",
              "      <th>Unnamed: 0</th>\n",
              "      <th>TV</th>\n",
              "      <th>Radio</th>\n",
              "      <th>Newspaper</th>\n",
              "      <th>Sales</th>\n",
              "    </tr>\n",
              "  </thead>\n",
              "  <tbody>\n",
              "    <tr>\n",
              "      <th>count</th>\n",
              "      <td>200.000000</td>\n",
              "      <td>200.000000</td>\n",
              "      <td>200.000000</td>\n",
              "      <td>200.000000</td>\n",
              "      <td>200.000000</td>\n",
              "    </tr>\n",
              "    <tr>\n",
              "      <th>mean</th>\n",
              "      <td>100.500000</td>\n",
              "      <td>147.042500</td>\n",
              "      <td>23.264000</td>\n",
              "      <td>30.554000</td>\n",
              "      <td>14.022500</td>\n",
              "    </tr>\n",
              "    <tr>\n",
              "      <th>std</th>\n",
              "      <td>57.879185</td>\n",
              "      <td>85.854236</td>\n",
              "      <td>14.846809</td>\n",
              "      <td>21.778621</td>\n",
              "      <td>5.217457</td>\n",
              "    </tr>\n",
              "    <tr>\n",
              "      <th>min</th>\n",
              "      <td>1.000000</td>\n",
              "      <td>0.700000</td>\n",
              "      <td>0.000000</td>\n",
              "      <td>0.300000</td>\n",
              "      <td>1.600000</td>\n",
              "    </tr>\n",
              "    <tr>\n",
              "      <th>25%</th>\n",
              "      <td>50.750000</td>\n",
              "      <td>74.375000</td>\n",
              "      <td>9.975000</td>\n",
              "      <td>12.750000</td>\n",
              "      <td>10.375000</td>\n",
              "    </tr>\n",
              "    <tr>\n",
              "      <th>50%</th>\n",
              "      <td>100.500000</td>\n",
              "      <td>149.750000</td>\n",
              "      <td>22.900000</td>\n",
              "      <td>25.750000</td>\n",
              "      <td>12.900000</td>\n",
              "    </tr>\n",
              "    <tr>\n",
              "      <th>75%</th>\n",
              "      <td>150.250000</td>\n",
              "      <td>218.825000</td>\n",
              "      <td>36.525000</td>\n",
              "      <td>45.100000</td>\n",
              "      <td>17.400000</td>\n",
              "    </tr>\n",
              "    <tr>\n",
              "      <th>max</th>\n",
              "      <td>200.000000</td>\n",
              "      <td>296.400000</td>\n",
              "      <td>49.600000</td>\n",
              "      <td>114.000000</td>\n",
              "      <td>27.000000</td>\n",
              "    </tr>\n",
              "  </tbody>\n",
              "</table>\n",
              "</div>\n",
              "      <button class=\"colab-df-convert\" onclick=\"convertToInteractive('df-e5f62ca2-908f-4ad8-a83c-f82d781d02c5')\"\n",
              "              title=\"Convert this dataframe to an interactive table.\"\n",
              "              style=\"display:none;\">\n",
              "        \n",
              "  <svg xmlns=\"http://www.w3.org/2000/svg\" height=\"24px\"viewBox=\"0 0 24 24\"\n",
              "       width=\"24px\">\n",
              "    <path d=\"M0 0h24v24H0V0z\" fill=\"none\"/>\n",
              "    <path d=\"M18.56 5.44l.94 2.06.94-2.06 2.06-.94-2.06-.94-.94-2.06-.94 2.06-2.06.94zm-11 1L8.5 8.5l.94-2.06 2.06-.94-2.06-.94L8.5 2.5l-.94 2.06-2.06.94zm10 10l.94 2.06.94-2.06 2.06-.94-2.06-.94-.94-2.06-.94 2.06-2.06.94z\"/><path d=\"M17.41 7.96l-1.37-1.37c-.4-.4-.92-.59-1.43-.59-.52 0-1.04.2-1.43.59L10.3 9.45l-7.72 7.72c-.78.78-.78 2.05 0 2.83L4 21.41c.39.39.9.59 1.41.59.51 0 1.02-.2 1.41-.59l7.78-7.78 2.81-2.81c.8-.78.8-2.07 0-2.86zM5.41 20L4 18.59l7.72-7.72 1.47 1.35L5.41 20z\"/>\n",
              "  </svg>\n",
              "      </button>\n",
              "      \n",
              "  <style>\n",
              "    .colab-df-container {\n",
              "      display:flex;\n",
              "      flex-wrap:wrap;\n",
              "      gap: 12px;\n",
              "    }\n",
              "\n",
              "    .colab-df-convert {\n",
              "      background-color: #E8F0FE;\n",
              "      border: none;\n",
              "      border-radius: 50%;\n",
              "      cursor: pointer;\n",
              "      display: none;\n",
              "      fill: #1967D2;\n",
              "      height: 32px;\n",
              "      padding: 0 0 0 0;\n",
              "      width: 32px;\n",
              "    }\n",
              "\n",
              "    .colab-df-convert:hover {\n",
              "      background-color: #E2EBFA;\n",
              "      box-shadow: 0px 1px 2px rgba(60, 64, 67, 0.3), 0px 1px 3px 1px rgba(60, 64, 67, 0.15);\n",
              "      fill: #174EA6;\n",
              "    }\n",
              "\n",
              "    [theme=dark] .colab-df-convert {\n",
              "      background-color: #3B4455;\n",
              "      fill: #D2E3FC;\n",
              "    }\n",
              "\n",
              "    [theme=dark] .colab-df-convert:hover {\n",
              "      background-color: #434B5C;\n",
              "      box-shadow: 0px 1px 3px 1px rgba(0, 0, 0, 0.15);\n",
              "      filter: drop-shadow(0px 1px 2px rgba(0, 0, 0, 0.3));\n",
              "      fill: #FFFFFF;\n",
              "    }\n",
              "  </style>\n",
              "\n",
              "      <script>\n",
              "        const buttonEl =\n",
              "          document.querySelector('#df-e5f62ca2-908f-4ad8-a83c-f82d781d02c5 button.colab-df-convert');\n",
              "        buttonEl.style.display =\n",
              "          google.colab.kernel.accessAllowed ? 'block' : 'none';\n",
              "\n",
              "        async function convertToInteractive(key) {\n",
              "          const element = document.querySelector('#df-e5f62ca2-908f-4ad8-a83c-f82d781d02c5');\n",
              "          const dataTable =\n",
              "            await google.colab.kernel.invokeFunction('convertToInteractive',\n",
              "                                                     [key], {});\n",
              "          if (!dataTable) return;\n",
              "\n",
              "          const docLinkHtml = 'Like what you see? Visit the ' +\n",
              "            '<a target=\"_blank\" href=https://colab.research.google.com/notebooks/data_table.ipynb>data table notebook</a>'\n",
              "            + ' to learn more about interactive tables.';\n",
              "          element.innerHTML = '';\n",
              "          dataTable['output_type'] = 'display_data';\n",
              "          await google.colab.output.renderOutput(dataTable, element);\n",
              "          const docLink = document.createElement('div');\n",
              "          docLink.innerHTML = docLinkHtml;\n",
              "          element.appendChild(docLink);\n",
              "        }\n",
              "      </script>\n",
              "    </div>\n",
              "  </div>\n",
              "  "
            ],
            "text/plain": [
              "       Unnamed: 0          TV       Radio   Newspaper       Sales\n",
              "count  200.000000  200.000000  200.000000  200.000000  200.000000\n",
              "mean   100.500000  147.042500   23.264000   30.554000   14.022500\n",
              "std     57.879185   85.854236   14.846809   21.778621    5.217457\n",
              "min      1.000000    0.700000    0.000000    0.300000    1.600000\n",
              "25%     50.750000   74.375000    9.975000   12.750000   10.375000\n",
              "50%    100.500000  149.750000   22.900000   25.750000   12.900000\n",
              "75%    150.250000  218.825000   36.525000   45.100000   17.400000\n",
              "max    200.000000  296.400000   49.600000  114.000000   27.000000"
            ]
          },
          "metadata": {},
          "execution_count": 6
        }
      ],
      "source": [
        "advertising.describe()"
      ]
    },
    {
      "cell_type": "markdown",
      "metadata": {
        "_uuid": "fab7463f8ed5eb55f1357db16c69204351295edf",
        "id": "zgqxKK4F5dAb"
      },
      "source": [
        "## Data Cleaning & Analysis"
      ]
    },
    {
      "cell_type": "code",
      "execution_count": null,
      "metadata": {
        "_uuid": "cf9580e58b78c0558d96f54272701b6d2d32a018",
        "colab": {
          "base_uri": "https://localhost:8080/"
        },
        "id": "bkLvzBwT5dAc",
        "outputId": "2099d07e-8170-4da9-81de-98d28f0843b4"
      },
      "outputs": [
        {
          "output_type": "execute_result",
          "data": {
            "text/plain": [
              "Unnamed: 0    0.0\n",
              "TV            0.0\n",
              "Radio         0.0\n",
              "Newspaper     0.0\n",
              "Sales         0.0\n",
              "dtype: float64"
            ]
          },
          "metadata": {},
          "execution_count": 7
        }
      ],
      "source": [
        "# Checking Null values\n",
        "advertising.isnull().sum()*100/advertising.shape[0]"
      ]
    },
    {
      "cell_type": "markdown",
      "source": [
        "Note: There are no *NULL* values in the dataset, hence it is clean."
      ],
      "metadata": {
        "id": "8DRScO4KRwCl"
      }
    },
    {
      "cell_type": "code",
      "execution_count": null,
      "metadata": {
        "_uuid": "c427a8e8a84e617eccdeda7df5eccd25f740f25d",
        "colab": {
          "base_uri": "https://localhost:8080/",
          "height": 369
        },
        "id": "ikgUPOzM5dAd",
        "outputId": "d6bb08c6-f84f-4fc7-f741-1c5e9754416f"
      },
      "outputs": [
        {
          "output_type": "display_data",
          "data": {
            "image/png": "[encoded data removed]",
            "text/plain": [
              "<Figure size 720x360 with 3 Axes>"
            ]
          },
          "metadata": {
            "needs_background": "light"
          }
        }
      ],
      "source": [
        "# Analysis with Box-Whisker Plots (Lageparameter Analyse)\n",
        "fig, axs = plt.subplots(3, figsize = (10,5))\n",
        "\n",
        "plt1 = sns.boxplot(advertising['TV'], ax = axs[0])\n",
        "plt2 = sns.boxplot(advertising['Newspaper'], ax = axs[1])\n",
        "plt3 = sns.boxplot(advertising['Radio'], ax = axs[2])\n",
        "\n",
        "plt.tight_layout()"
      ]
    },
    {
      "cell_type": "markdown",
      "source": [
        "Note: There are no considerable *outliers* present in the data."
      ],
      "metadata": {
        "id": "mbtLC2ldBdnf"
      }
    },
    {
      "cell_type": "markdown",
      "metadata": {
        "_uuid": "81898c048d2b70a32615965535f9b7a6fdc626ae",
        "id": "2pggWIqy5dAe"
      },
      "source": [
        "## Diagnostic Analytics - Exploratory Data Analysis"
      ]
    },
    {
      "cell_type": "markdown",
      "metadata": {
        "_uuid": "d2ac5e56f61c3c9517621ad569068bbdcd65b8dd",
        "id": "Q6mub4bb5dAf"
      },
      "source": [
        "### Univariate Analysis\n",
        "Focus on the **Sales** (Target) Variable"
      ]
    },
    {
      "cell_type": "code",
      "execution_count": null,
      "metadata": {
        "_uuid": "d435bd318677f7a4234bf02efdf54aa19e8b2c16",
        "colab": {
          "base_uri": "https://localhost:8080/",
          "height": 334
        },
        "id": "IEw7Y7jU5dAg",
        "outputId": "7d960881-9002-416f-e839-7d3d57c66151"
      },
      "outputs": [
        {
          "output_type": "display_data",
          "data": {
            "image/png": "[encoded data removed]",
            "text/plain": [
              "<Figure size 720x360 with 1 Axes>"
            ]
          },
          "metadata": {
            "needs_background": "light"
          }
        }
      ],
      "source": [
        "# Analysis with Box-Whisker Plots (Lageparameter Analyse)\n",
        "fig, axs = plt.subplots(1, figsize = (10,5))\n",
        "\n",
        "sns.boxplot(advertising['Sales'])\n",
        "plt.show()"
      ]
    },
    {
      "cell_type": "markdown",
      "source": [
        "### Bivariate Analysis\n",
        "Focus on the Observation and Target Variable combinations"
      ],
      "metadata": {
        "id": "PaH90ys-TU3U"
      }
    },
    {
      "cell_type": "code",
      "execution_count": null,
      "metadata": {
        "_uuid": "2d6f716ebe182a58f9941c059256a09cc7f03703",
        "colab": {
          "base_uri": "https://localhost:8080/",
          "height": 319
        },
        "id": "L90W7pK_5dAg",
        "outputId": "323da6f8-7f51-457b-93e2-a13bfdbc87cf"
      },
      "outputs": [
        {
          "output_type": "display_data",
          "data": {
            "image/png": "[encoded data removed]",
            "text/plain": [
              "<Figure size 864x288 with 3 Axes>"
            ]
          },
          "metadata": {
            "needs_background": "light"
          }
        }
      ],
      "source": [
        "# Analysis with Scatterplot (Pairplots)\n",
        "# Let's see how Sales are related with other variables\n",
        "\n",
        "sns.pairplot(advertising, x_vars=['TV', 'Newspaper', 'Radio'], y_vars='Sales', height=4, aspect=1, kind='scatter')\n",
        "plt.title('Pairwise Scatterplots')\n",
        "plt.show()"
      ]
    },
    {
      "cell_type": "code",
      "execution_count": null,
      "metadata": {
        "_uuid": "ea27ea99e47d578866a706f437d74a8fe1ad2264",
        "colab": {
          "base_uri": "https://localhost:8080/",
          "height": 274
        },
        "id": "_ttgEY7N5dAh",
        "outputId": "561f16df-181f-4bd5-b7d9-6670ceddc89c"
      },
      "outputs": [
        {
          "output_type": "display_data",
          "data": {
            "image/png": "[encoded data removed]",
            "text/plain": [
              "<Figure size 432x288 with 2 Axes>"
            ]
          },
          "metadata": {
            "needs_background": "light"
          }
        }
      ],
      "source": [
        "# Analysis with Heatmap\n",
        "# Let's see the correlation between different variables\n",
        "\n",
        "sns.heatmap(advertising.corr(), cmap=\"YlOrBr\", annot = True)\n",
        "plt.show()"
      ]
    },
    {
      "cell_type": "markdown",
      "metadata": {
        "_uuid": "de3f5b90d0b6165958efcf1a31b80141867987fe",
        "id": "1jv-xQoE5dAi"
      },
      "source": [
        "Note: As is visible from the *pairplot* and the *heatmap*, the variable `TV` seems to be most correlated with `Sales`.   \n",
        "So let's go ahead and perform **simple linear regression** using `TV` as our feature variable."
      ]
    },
    {
      "cell_type": "markdown",
      "metadata": {
        "_uuid": "596550475e9050e4413572b184f66ddf74764878",
        "id": "XnXZBucp5dAj"
      },
      "source": [
        "## Model Building - Linear Regression\n",
        "#### Performing Simple Linear Regression\n",
        "The equation of linear regression:<br>\n",
        "$y = c + m_1x_1 + m_2x_2 + ... + m_nx_n$\n",
        "\n",
        "-  $y$ is the response (*target*)\n",
        "-  $c$ is the intercept\n",
        "-  $m_1$ is the coefficient for the first feature (*observation*)\n",
        "-  $m_n$ is the coefficient for the nth feature<br>\n",
        "\n",
        "In our case:\n",
        "\n",
        "$y = c + m_1 \\times TV$\n",
        "\n",
        "The $m$ values are called the model **coefficients** or **model parameters**.\n",
        "\n",
        "---"
      ]
    },
    {
      "cell_type": "markdown",
      "metadata": {
        "_uuid": "fe62b625cb69b757c37930b85ffc1b4b4805f4ca",
        "id": "pv0EXVcN5dAk"
      },
      "source": [
        "### Generic Steps in Model Building\n",
        "1) We first assign \n",
        "* the feature (**observation**)  (`TV`, in this case) to the **variable `X`**     \n",
        "* and the response (**target**) variable (`Sales`) to the **variable `y`**."
      ]
    },
    {
      "cell_type": "code",
      "execution_count": null,
      "metadata": {
        "_uuid": "ae7285c79fd678fad0ee4fb18f8923daf024838b",
        "id": "xizPLPvF5dAl"
      },
      "outputs": [],
      "source": [
        "X = advertising['TV']\n",
        "y = advertising['Sales']"
      ]
    },
    {
      "cell_type": "markdown",
      "metadata": {
        "_uuid": "b3d9b88574b3b83dd47e7e0425c8e627443c4ec3",
        "id": "o6prenad5dAl"
      },
      "source": [
        "2) Then split Dataset into Train-Test Parts\n",
        "\n",
        "You now need to split our variable into training and testing sets. You'll perform this by importing `train_test_split` from the `sklearn.model_selection` library. It is usually a good practice to keep 70% of the data in your train dataset and the rest 30% in your test dataset"
      ]
    },
    {
      "cell_type": "code",
      "execution_count": null,
      "metadata": {
        "_uuid": "997311202075aaa98631ef95c1a0d91cdbefa2af",
        "id": "eSrz2ujP5dAm"
      },
      "outputs": [],
      "source": [
        "from sklearn.model_selection import train_test_split\n",
        "\n",
        "X_train, X_test, y_train, y_test = train_test_split(X, y, train_size = 0.7, test_size = 0.3, random_state = 100)"
      ]
    },
    {
      "cell_type": "code",
      "execution_count": null,
      "metadata": {
        "_uuid": "07e568ebfdb6c838568e2df3dfd5fd0acadc7184",
        "colab": {
          "base_uri": "https://localhost:8080/"
        },
        "id": "G58_Is6A5dAn",
        "outputId": "ac6e0091-b1cd-496c-ec26-f1866abc9320"
      },
      "outputs": [
        {
          "output_type": "execute_result",
          "data": {
            "text/plain": [
              "74     213.4\n",
              "3      151.5\n",
              "185    205.0\n",
              "26     142.9\n",
              "90     134.3\n",
              "Name: TV, dtype: float64"
            ]
          },
          "metadata": {},
          "execution_count": 19
        }
      ],
      "source": [
        "# Let's have a look at the TRAIN dataset\n",
        "\n",
        "X_train.head()"
      ]
    },
    {
      "cell_type": "code",
      "execution_count": null,
      "metadata": {
        "_uuid": "873156cc1e983a63bfea8b5947bfb91e6992a7f5",
        "colab": {
          "base_uri": "https://localhost:8080/"
        },
        "id": "4CjtklEX5dAp",
        "outputId": "e29368a2-c00a-484c-b096-2e491ca85d9d"
      },
      "outputs": [
        {
          "output_type": "execute_result",
          "data": {
            "text/plain": [
              "74     17.0\n",
              "3      18.5\n",
              "185    22.6\n",
              "26     15.0\n",
              "90     11.2\n",
              "Name: Sales, dtype: float64"
            ]
          },
          "metadata": {},
          "execution_count": 20
        }
      ],
      "source": [
        "y_train.head()"
      ]
    },
    {
      "cell_type": "markdown",
      "metadata": {
        "_uuid": "a53ec07eb3235dca5ca72cc9c2f6ca0634a33a09",
        "id": "Q51lS6V_5dAs"
      },
      "source": [
        "### Build a Linear Model\n",
        "\n",
        "You first need to import the `statsmodel.api` library using which you'll perform the linear regression."
      ]
    },
    {
      "cell_type": "code",
      "execution_count": null,
      "metadata": {
        "_uuid": "226e3704ff6b78a47273fd816009f9c30b8f0a81",
        "id": "9lrVoOFe5dAt"
      },
      "outputs": [],
      "source": [
        "import statsmodels.api as sm"
      ]
    },
    {
      "cell_type": "markdown",
      "metadata": {
        "_uuid": "7aace406b025306a7ba85016b8bd48ae662d1ec1",
        "id": "lQvMkLi15dAt"
      },
      "source": [
        "By default, the `statsmodels` library fits a line on the dataset which passes through the origin. But in order to have an intercept, you need to manually use the `add_constant` attribute of `statsmodels`.  \n",
        "\n",
        "And once you've added the constant to your `X_train` dataset, you can go ahead and fit a regression line using the **Ordinary Least Squares** (`OLS`) attribute of `statsmodels` as shown below"
      ]
    },
    {
      "cell_type": "code",
      "execution_count": null,
      "metadata": {
        "_uuid": "b80a766082e6c9c40c3f09499fec4cfc51f62763",
        "id": "HCLR_T6l5dAt"
      },
      "outputs": [],
      "source": [
        "# Add a constant to get an intercept\n",
        "X_train_sm = sm.add_constant(X_train)\n",
        "\n",
        "# Fit the Regression Line using 'OLS' (ordinary least square)\n",
        "lr = sm.OLS(y_train, X_train_sm).fit()\n"
      ]
    },
    {
      "cell_type": "code",
      "execution_count": null,
      "metadata": {
        "_uuid": "fd4287b550d2f05555ae3e18d6f497912424f8cf",
        "colab": {
          "base_uri": "https://localhost:8080/"
        },
        "id": "oomv9z_F5dAu",
        "outputId": "f934e5a0-45a0-4ace-bc90-af034c671b17"
      },
      "outputs": [
        {
          "output_type": "execute_result",
          "data": {
            "text/plain": [
              "const    6.989666\n",
              "TV       0.046497\n",
              "dtype: float64"
            ]
          },
          "metadata": {},
          "execution_count": 30
        }
      ],
      "source": [
        "# Print the regression parameters, \n",
        "# i.e. the intercept and the slope of the fitted regression line\n",
        "lr.params"
      ]
    },
    {
      "cell_type": "code",
      "execution_count": null,
      "metadata": {
        "_uuid": "f841995801587a25a9b4c4b77ef396e538e9ad1f",
        "colab": {
          "base_uri": "https://localhost:8080/"
        },
        "id": "z69YeV1e5dAu",
        "outputId": "befc2bf0-10cd-4f1d-c32c-621acefb09b0"
      },
      "outputs": [
        {
          "output_type": "stream",
          "name": "stdout",
          "text": [
            "                            OLS Regression Results                            \n",
            "==============================================================================\n",
            "Dep. Variable:                  Sales   R-squared:                       0.613\n",
            "Model:                            OLS   Adj. R-squared:                  0.611\n",
            "Method:                 Least Squares   F-statistic:                     219.0\n",
            "Date:                Mon, 17 Jan 2022   Prob (F-statistic):           2.84e-30\n",
            "Time:                        14:00:42   Log-Likelihood:                -370.62\n",
            "No. Observations:                 140   AIC:                             745.2\n",
            "Df Residuals:                     138   BIC:                             751.1\n",
            "Df Model:                           1                                         \n",
            "Covariance Type:            nonrobust                                         \n",
            "==============================================================================\n",
            "                 coef    std err          t      P>|t|      [0.025      0.975]\n",
            "------------------------------------------------------------------------------\n",
            "const          6.9897      0.548     12.762      0.000       5.907       8.073\n",
            "TV             0.0465      0.003     14.798      0.000       0.040       0.053\n",
            "==============================================================================\n",
            "Omnibus:                        0.995   Durbin-Watson:                   1.983\n",
            "Prob(Omnibus):                  0.608   Jarque-Bera (JB):                0.970\n",
            "Skew:                          -0.008   Prob(JB):                        0.616\n",
            "Kurtosis:                       2.593   Cond. No.                         328.\n",
            "==============================================================================\n",
            "\n",
            "Warnings:\n",
            "[1] Standard Errors assume that the covariance matrix of the errors is correctly specified.\n"
          ]
        }
      ],
      "source": [
        "# Performing a summary operation lists out all the different parameters of the regression line fitted\n",
        "print(lr.summary())"
      ]
    },
    {
      "cell_type": "markdown",
      "metadata": {
        "_uuid": "2eb6f1c6f44cf4b216aaf184ef64be7358c12bb7",
        "id": "9xfgtP3c5dAw"
      },
      "source": [
        "####  Key Statistics of the Linear Model\n",
        "Looking at the key values from the summary above of the linear model, we are concerned with:   \n",
        "1. The coefficients and significance (**p-values**)\n",
        "2. **R-squared**\n",
        "3. **F statistic** and its significance"
      ]
    },
    {
      "cell_type": "markdown",
      "metadata": {
        "_uuid": "5c4fab83c0633fef6b7d7c164056f58e7bf6fedf",
        "id": "2x-SbNvD5dAw"
      },
      "source": [
        "##### 1. The coefficient for TV is 0.054, with a very low p value\n",
        "*The coefficient is statistically significant*. So the association is not purely by chance. "
      ]
    },
    {
      "cell_type": "markdown",
      "metadata": {
        "_uuid": "78f7b40f9e278a5261b382665b3e953524aeced3",
        "id": "cdW_pije5dAx"
      },
      "source": [
        "##### 2. R - squared is 0.816\n",
        "Meaning that 81.6% of the variance in `Sales` is explained by `TV`\n",
        "\n",
        "*This is a decent R-squared value.*"
      ]
    },
    {
      "cell_type": "markdown",
      "metadata": {
        "_uuid": "6f0cc01ea96a792ef1c9e369a67f5cf4949cda42",
        "id": "AOlqBX7z5dAx"
      },
      "source": [
        "###### 3. F statistic has a very low p value (practically low)\n",
        "Meaning that *the model fit is statistically significant*, and the explained variance isn't purely by chance."
      ]
    },
    {
      "cell_type": "markdown",
      "metadata": {
        "_uuid": "355241eda62e0f3fb9b843256640d56ab6bf7fd1",
        "id": "jYj59UIP5dAy"
      },
      "source": [
        "---\n",
        "Note: **The fit is significant**  \n",
        "Let's visualize how well the model fit the data.  \n",
        "From the parameters that we get, our linear regression equation becomes:\n",
        "\n",
        "$ Sales = 6.948 + 0.054 \\times TV $"
      ]
    },
    {
      "cell_type": "code",
      "execution_count": null,
      "metadata": {
        "_uuid": "6e0dc97a88b9fc1d4e975c2fe511e59bd0cd2b8a",
        "scrolled": true,
        "colab": {
          "base_uri": "https://localhost:8080/",
          "height": 295
        },
        "id": "qXGsSER75dAy",
        "outputId": "42d3a4cf-7b83-4ffc-9acb-81f3702692b0"
      },
      "outputs": [
        {
          "output_type": "display_data",
          "data": {
            "image/png": "[encoded data removed]",
            "text/plain": [
              "<Figure size 432x288 with 1 Axes>"
            ]
          },
          "metadata": {
            "needs_background": "light"
          }
        }
      ],
      "source": [
        "# Visualize Orginal Data and Linear Model \n",
        "\n",
        "plt.scatter(X_train, y_train)\n",
        "plt.plot(X_train, 6.948 + 0.054*X_train, 'r')\n",
        "\n",
        "plt.title('Original Data and Linear Model')\n",
        "# Set x-axis label\n",
        "plt.xlabel('TV')\n",
        "# Set y-axis label\n",
        "plt.ylabel('Sales')\n",
        "\n",
        "plt.show()"
      ]
    },
    {
      "cell_type": "markdown",
      "metadata": {
        "_uuid": "b0127acdc8615bb40259e313f1d91e263091ce5c",
        "id": "kwnfQ--J5dAz"
      },
      "source": [
        "## Model Evaluation\n",
        "\n",
        "**Residual analysis**, to validate assumptions of the model, and hence the reliability for inference"
      ]
    },
    {
      "cell_type": "markdown",
      "metadata": {
        "_uuid": "90fd70d36d73f8756d85b91132b7783fca68de51",
        "id": "OD9xBD5b5dA0"
      },
      "source": [
        "#### Distribution of the Error Terms\n",
        "We need to check if the error terms are also normally distributed (which is infact, one of the major assumptions of linear regression), let us plot the *histogram of the error terms* and see what it looks like."
      ]
    },
    {
      "cell_type": "code",
      "execution_count": null,
      "metadata": {
        "_uuid": "4dd8f2238cf72ced822605fc50ceedc3451ef5af",
        "id": "BpG4TLK55dA0"
      },
      "outputs": [],
      "source": [
        "y_train_pred = lr.predict(X_train_sm)\n",
        "res = (y_train - y_train_pred)"
      ]
    },
    {
      "cell_type": "code",
      "execution_count": null,
      "metadata": {
        "_uuid": "14e47df1dd16feb210ba45abe9bd16e583dacd88",
        "scrolled": true,
        "colab": {
          "base_uri": "https://localhost:8080/",
          "height": 304
        },
        "id": "CYXchvUq5dA1",
        "outputId": "8c5c10fc-3e3a-4428-ab80-887f3a9afaac"
      },
      "outputs": [
        {
          "output_type": "display_data",
          "data": {
            "image/png": "[encoded data removed]",
            "text/plain": [
              "<Figure size 432x288 with 1 Axes>"
            ]
          },
          "metadata": {
            "needs_background": "light"
          }
        }
      ],
      "source": [
        "plt.figure()\n",
        "sns.distplot(res, bins = 15)\n",
        "\n",
        "plt.title('Model Evaluation: Distribution of the Error Terms', fontsize = 15)\n",
        "plt.xlabel('y_train - y_train_pred', fontsize = 15)         # X-label\n",
        "plt.show()"
      ]
    },
    {
      "cell_type": "markdown",
      "metadata": {
        "_uuid": "e4ee1c8edba5205ff0fb2d282f3cb04d3578d40e",
        "id": "cssv7vjz5dA1"
      },
      "source": [
        "Note: The residuals are following the *normally distributed with a mean 0*. All good!"
      ]
    },
    {
      "cell_type": "markdown",
      "metadata": {
        "_uuid": "21220e799147c77afe520b1eaf29664fca414fb5",
        "id": "dm1Jha-d5dA1"
      },
      "source": [
        "#### Looking for Patterns in the Residuals"
      ]
    },
    {
      "cell_type": "code",
      "execution_count": null,
      "metadata": {
        "_uuid": "9273cbc44826c16c959a63707862371c9ff4301d",
        "colab": {
          "base_uri": "https://localhost:8080/",
          "height": 283
        },
        "id": "nnlM4y6T5dA1",
        "outputId": "a005976f-e136-46e2-e4c8-3529050e5962"
      },
      "outputs": [
        {
          "output_type": "display_data",
          "data": {
            "image/png": "[encoded data removed]",
            "text/plain": [
              "<Figure size 432x288 with 1 Axes>"
            ]
          },
          "metadata": {
            "needs_background": "light"
          }
        }
      ],
      "source": [
        "plt.scatter(X_train,res)\n",
        "\n",
        "plt.title('Model Evaluation: Residual Patterns', fontsize = 15)\n",
        "plt.ylabel('y_train - y_train_pred', fontsize = 15)         # Y-label\n",
        "\n",
        "plt.show()"
      ]
    },
    {
      "cell_type": "markdown",
      "metadata": {
        "_uuid": "6b9b369334a8ce91ef15c05de37b463b2df53fd1",
        "id": "nlgdydTT5dA2"
      },
      "source": [
        "We are confident that the model fit isn't by chance, and has decent predictive power. The normality of residual terms allows some inference on the coefficients. \n",
        "**Although**, the variance of residuals increasing with X indicates that there is significant variation that this model is unable to explain.  \n",
        "\n",
        "As you can see, the regression line is a pretty good fit to the data!"
      ]
    },
    {
      "cell_type": "markdown",
      "metadata": {
        "_uuid": "70d9188db6c5b404c66c0a1bc2b9002a86121318",
        "id": "i5qHbVoB5dA2"
      },
      "source": [
        "### Predictions on the Test Set"
      ]
    },
    {
      "cell_type": "markdown",
      "metadata": {
        "_uuid": "a88d571a4e726470bb1af84b6197e7065bcd23d4",
        "id": "P4Cz0gKZ5dA2"
      },
      "source": [
        "Now that you have fitted a regression line on your train dataset, it's time to make some predictions on the test data. For this, you first need to add a constant to the `X_test` data like you did for `X_train` and then you can simply go on and predict the y values corresponding to `X_test` using the `predict` attribute of the fitted regression line."
      ]
    },
    {
      "cell_type": "code",
      "execution_count": null,
      "metadata": {
        "_uuid": "f0bed7ce820292dceee1c3b00b9ecbcb9fdbbd37",
        "id": "ByRQKiO35dA3"
      },
      "outputs": [],
      "source": [
        "# Add a constant to X_test\n",
        "X_test_sm = sm.add_constant(X_test)\n",
        "\n",
        "# Predict the y values corresponding to X_test_sm\n",
        "y_pred = lr.predict(X_test_sm)"
      ]
    },
    {
      "cell_type": "code",
      "execution_count": null,
      "metadata": {
        "_uuid": "0b64c5e3173c685b0715a93f0a77c759e90b2dff",
        "id": "FPiMdB8Y5dA3",
        "outputId": "7a5b4177-cfa2-44e0-b4ac-a915505fa77f"
      },
      "outputs": [
        {
          "data": {
            "text/plain": [
              "126     7.374140\n",
              "104    19.941482\n",
              "99     14.323269\n",
              "92     18.823294\n",
              "111    20.132392\n",
              "dtype: float64"
            ]
          },
          "execution_count": 25,
          "metadata": {},
          "output_type": "execute_result"
        }
      ],
      "source": [
        "y_pred.head()"
      ]
    },
    {
      "cell_type": "code",
      "execution_count": null,
      "metadata": {
        "_uuid": "f67e3bf11f1ab0670339d4496a4b42df11d1b0cf",
        "id": "kqwLI5Jo5dA3"
      },
      "outputs": [],
      "source": [
        "from sklearn.metrics import mean_squared_error\n",
        "from sklearn.metrics import r2_score"
      ]
    },
    {
      "cell_type": "markdown",
      "metadata": {
        "_uuid": "3d4c698357ac5a9b1dc5e82862c081a2843e8c2b",
        "id": "HOc55Lbk5dA4"
      },
      "source": [
        "##### Looking at the Root Mean Squared Error (RMSE) on the test set"
      ]
    },
    {
      "cell_type": "code",
      "execution_count": null,
      "metadata": {
        "_uuid": "58863bc73dfa751e6bade66b3b71f80be51d9ca6",
        "colab": {
          "base_uri": "https://localhost:8080/"
        },
        "id": "oWODLrKX5dA4",
        "outputId": "8a62ea00-ecb2-4520-926b-c826575aba74"
      },
      "outputs": [
        {
          "output_type": "stream",
          "name": "stdout",
          "text": [
            "Root Mean Squared Error (RMSE):  2.8241456288327007\n"
          ]
        }
      ],
      "source": [
        "#Returns the mean squared error (RMSE); we'll take a square root\n",
        "RMSE = np.sqrt(mean_squared_error(y_test, y_pred))\n",
        "print('Root Mean Squared Error (RMSE): ', RMSE)"
      ]
    },
    {
      "cell_type": "markdown",
      "metadata": {
        "_uuid": "ab9e84c7ccf6d83fd215ba8771cb0243a59bc88e",
        "id": "jdLvo-bs5dA5"
      },
      "source": [
        "###### Checking the R-squared on the test set"
      ]
    },
    {
      "cell_type": "code",
      "execution_count": null,
      "metadata": {
        "_uuid": "6ce19fc28741a4d2b558a377f2fd39c81abdb72e",
        "colab": {
          "base_uri": "https://localhost:8080/"
        },
        "id": "UUaeFQ6n5dA5",
        "outputId": "0690ff44-70d4-41b5-f81b-5c345d6ae4b7"
      },
      "outputs": [
        {
          "output_type": "stream",
          "name": "stdout",
          "text": [
            "R-squared:  0.5942987267783302\n"
          ]
        }
      ],
      "source": [
        "r_squared = r2_score(y_test, y_pred)\n",
        "print('R-squared: ',r_squared)"
      ]
    },
    {
      "cell_type": "markdown",
      "metadata": {
        "_uuid": "743c7b8425082fbb0a6811f2405fb7a4c1fa5a1f",
        "id": "Lj-Ws8mk5dA5"
      },
      "source": [
        "##### Visualizing the Fit on the Test Set"
      ]
    },
    {
      "cell_type": "code",
      "execution_count": null,
      "metadata": {
        "_uuid": "eb08ac34d4e148e3221adfe126072f108adbfa24",
        "scrolled": true,
        "colab": {
          "base_uri": "https://localhost:8080/",
          "height": 297
        },
        "id": "ANir7SNS5dA5",
        "outputId": "25479464-f1af-4279-f2a3-31b2b17d589d"
      },
      "outputs": [
        {
          "output_type": "display_data",
          "data": {
            "image/png": "[encoded data removed]",
            "text/plain": [
              "<Figure size 432x288 with 1 Axes>"
            ]
          },
          "metadata": {
            "needs_background": "light"
          }
        }
      ],
      "source": [
        "plt.scatter(X_test, y_test)\n",
        "plt.plot(X_test, 6.948 + 0.054 * X_test, 'r')\n",
        "\n",
        "plt.title('Model Evaluation: Visualizing the Fit on the Test Set', fontsize = 15)\n",
        "plt.ylabel('Sales')         # Y-label\n",
        "plt.xlabel('TV')            # X-label\n",
        "plt.show()"
      ]
    },
    {
      "cell_type": "markdown",
      "source": [
        "## Model Deployment\n",
        "\n",
        "1) Define Linear Model Function"
      ],
      "metadata": {
        "id": "jsm-6sdvl7ZJ"
      }
    },
    {
      "cell_type": "code",
      "source": [
        "def lr_model_prediction (Xarg):\n",
        "   intercept = 6.948\n",
        "   coeff_X = 0.054\n",
        "\n",
        "   result = intercept + coeff_X * Xarg\n",
        "   return result"
      ],
      "metadata": {
        "id": "b6igcnzYidj5"
      },
      "execution_count": null,
      "outputs": []
    },
    {
      "cell_type": "markdown",
      "source": [
        "2) Apply Linear Model Function to new observation values"
      ],
      "metadata": {
        "id": "uWagnMMGmLxW"
      }
    },
    {
      "cell_type": "code",
      "source": [
        "TV_ads = 375\n",
        "print('Sales Prediction:',lr_model_prediction(X_new),' for TV ads volume: ', TV_ads)"
      ],
      "metadata": {
        "colab": {
          "base_uri": "https://localhost:8080/"
        },
        "id": "bbYKWwW_lTpK",
        "outputId": "edf7f313-d2c6-40db-8d8b-5d90b6c1c735"
      },
      "execution_count": null,
      "outputs": [
        {
          "output_type": "stream",
          "name": "stdout",
          "text": [
            "Sales Prediction: 24.498  for TV ads volume:  375\n"
          ]
        }
      ]
    }
  ],
  "metadata": {
    "kernelspec": {
      "display_name": "Python 3",
      "language": "python",
      "name": "python3"
    },
    "language_info": {
      "codemirror_mode": {
        "name": "ipython",
        "version": 3
      },
      "file_extension": ".py",
      "mimetype": "text/x-python",
      "name": "python",
      "nbconvert_exporter": "python",
      "pygments_lexer": "ipython3",
      "version": "3.6.6"
    },
    "colab": {
      "name": "Kopie von Python_Linear-REGRESSION_Advertising_v1.ipynb",
      "provenance": [],
      "collapsed_sections": []
    }
  },
  "nbformat": 4,
  "nbformat_minor": 0
}